{
 "cells": [
  {
   "cell_type": "code",
   "execution_count": 221,
   "metadata": {},
   "outputs": [],
   "source": [
    "import pandas as pd"
   ]
  },
  {
   "cell_type": "code",
   "execution_count": 222,
   "metadata": {},
   "outputs": [],
   "source": [
    "movies_data = pd.read_csv(\"../data/Preprocessed_data/preprocessed_movie_metadata.csv\")\n",
    "history_data = pd.read_csv(\"../data/HistoricalDataset/historical.dataset.csv\")"
   ]
  },
  {
   "cell_type": "code",
   "execution_count": 223,
   "metadata": {},
   "outputs": [
    {
     "data": {
      "text/html": [
       "<div>\n",
       "<style scoped>\n",
       "    .dataframe tbody tr th:only-of-type {\n",
       "        vertical-align: middle;\n",
       "    }\n",
       "\n",
       "    .dataframe tbody tr th {\n",
       "        vertical-align: top;\n",
       "    }\n",
       "\n",
       "    .dataframe thead th {\n",
       "        text-align: right;\n",
       "    }\n",
       "</style>\n",
       "<table border=\"1\" class=\"dataframe\">\n",
       "  <thead>\n",
       "    <tr style=\"text-align: right;\">\n",
       "      <th></th>\n",
       "      <th>Sl. No</th>\n",
       "      <th>Name of Incident</th>\n",
       "      <th>Date</th>\n",
       "      <th>Month</th>\n",
       "      <th>Year</th>\n",
       "      <th>Country</th>\n",
       "      <th>Type of Event</th>\n",
       "      <th>Place Name</th>\n",
       "      <th>Impact</th>\n",
       "      <th>Affected Population</th>\n",
       "      <th>Important Person/Group Responsible</th>\n",
       "      <th>Outcome</th>\n",
       "    </tr>\n",
       "  </thead>\n",
       "  <tbody>\n",
       "    <tr>\n",
       "      <th>0</th>\n",
       "      <td>1</td>\n",
       "      <td>Indus Valley Civilization Flourishes</td>\n",
       "      <td>Unknown</td>\n",
       "      <td>Unknown</td>\n",
       "      <td>2600 BC</td>\n",
       "      <td>India</td>\n",
       "      <td>Civilization</td>\n",
       "      <td>Indus Valley</td>\n",
       "      <td>Development of one of the world's earliest urb...</td>\n",
       "      <td>Local inhabitants</td>\n",
       "      <td>Indus Valley people</td>\n",
       "      <td>Positive</td>\n",
       "    </tr>\n",
       "    <tr>\n",
       "      <th>1</th>\n",
       "      <td>2</td>\n",
       "      <td>Battle of the Ten Kings</td>\n",
       "      <td>Unknown</td>\n",
       "      <td>Unknown</td>\n",
       "      <td>1400 BC</td>\n",
       "      <td>India</td>\n",
       "      <td>Battle</td>\n",
       "      <td>Punjab</td>\n",
       "      <td>Rigvedic tribes consolidated their control ove...</td>\n",
       "      <td>Rigvedic tribes</td>\n",
       "      <td>Sudas</td>\n",
       "      <td>Positive</td>\n",
       "    </tr>\n",
       "    <tr>\n",
       "      <th>2</th>\n",
       "      <td>6</td>\n",
       "      <td>Establishment of the Delhi Sultanate</td>\n",
       "      <td>Unknown</td>\n",
       "      <td>Unknown</td>\n",
       "      <td>1206</td>\n",
       "      <td>India</td>\n",
       "      <td>Political</td>\n",
       "      <td>Delhi</td>\n",
       "      <td>Muslim rule established in parts of India</td>\n",
       "      <td>People of Delhi and surrounding regions</td>\n",
       "      <td>QutbUnknownudUnknowndin Aibak</td>\n",
       "      <td>Mixed</td>\n",
       "    </tr>\n",
       "    <tr>\n",
       "      <th>3</th>\n",
       "      <td>7</td>\n",
       "      <td>Battle of Panipat</td>\n",
       "      <td>21</td>\n",
       "      <td>April</td>\n",
       "      <td>1526</td>\n",
       "      <td>India</td>\n",
       "      <td>Battle</td>\n",
       "      <td>Panipat</td>\n",
       "      <td>Foundation of the Mughal Empire in India</td>\n",
       "      <td>Northern Indian kingdoms</td>\n",
       "      <td>Babur</td>\n",
       "      <td>Mixed</td>\n",
       "    </tr>\n",
       "    <tr>\n",
       "      <th>4</th>\n",
       "      <td>8</td>\n",
       "      <td>Establishment of British Raj</td>\n",
       "      <td>1</td>\n",
       "      <td>May</td>\n",
       "      <td>1858</td>\n",
       "      <td>India</td>\n",
       "      <td>Colonial</td>\n",
       "      <td>Whole India</td>\n",
       "      <td>Start of direct British governance in India</td>\n",
       "      <td>Indian subcontinent</td>\n",
       "      <td>British East India Company/Empire</td>\n",
       "      <td>Negative</td>\n",
       "    </tr>\n",
       "  </tbody>\n",
       "</table>\n",
       "</div>"
      ],
      "text/plain": [
       "   Sl. No                      Name of Incident     Date    Month     Year  \\\n",
       "0       1  Indus Valley Civilization Flourishes  Unknown  Unknown  2600 BC   \n",
       "1       2               Battle of the Ten Kings  Unknown  Unknown  1400 BC   \n",
       "2       6  Establishment of the Delhi Sultanate  Unknown  Unknown     1206   \n",
       "3       7                     Battle of Panipat       21    April     1526   \n",
       "4       8          Establishment of British Raj        1      May     1858   \n",
       "\n",
       "  Country Type of Event    Place Name  \\\n",
       "0   India  Civilization  Indus Valley   \n",
       "1   India        Battle        Punjab   \n",
       "2   India     Political         Delhi   \n",
       "3   India        Battle       Panipat   \n",
       "4   India      Colonial   Whole India   \n",
       "\n",
       "                                              Impact  \\\n",
       "0  Development of one of the world's earliest urb...   \n",
       "1  Rigvedic tribes consolidated their control ove...   \n",
       "2          Muslim rule established in parts of India   \n",
       "3           Foundation of the Mughal Empire in India   \n",
       "4        Start of direct British governance in India   \n",
       "\n",
       "                       Affected Population Important Person/Group Responsible  \\\n",
       "0                        Local inhabitants                Indus Valley people   \n",
       "1                          Rigvedic tribes                              Sudas   \n",
       "2  People of Delhi and surrounding regions      QutbUnknownudUnknowndin Aibak   \n",
       "3                 Northern Indian kingdoms                              Babur   \n",
       "4                      Indian subcontinent  British East India Company/Empire   \n",
       "\n",
       "    Outcome  \n",
       "0  Positive  \n",
       "1  Positive  \n",
       "2     Mixed  \n",
       "3     Mixed  \n",
       "4  Negative  "
      ]
     },
     "execution_count": 223,
     "metadata": {},
     "output_type": "execute_result"
    }
   ],
   "source": [
    "history_data.head()"
   ]
  },
  {
   "cell_type": "code",
   "execution_count": 224,
   "metadata": {},
   "outputs": [
    {
     "data": {
      "text/plain": [
       "1096"
      ]
     },
     "execution_count": 224,
     "metadata": {},
     "output_type": "execute_result"
    }
   ],
   "source": [
    "# drop columns that we don't need.\n",
    "history_data.drop(columns=[\"Place Name\",\"Date\", \"Month\"], inplace=True)\n",
    "len(history_data)"
   ]
  },
  {
   "cell_type": "code",
   "execution_count": 225,
   "metadata": {},
   "outputs": [],
   "source": [
    "# we can see that some of the dates are before Christ (BC). We can safely remove them, knowing that movies didn't exist at that time\n",
    "def remove_BC(data):\n",
    "    clean_data = data[~data['Year'].str.contains('BC')]\n",
    "    return clean_data\n",
    "    \n",
    "cleaned_data_history = remove_BC(history_data)"
   ]
  },
  {
   "cell_type": "code",
   "execution_count": 226,
   "metadata": {},
   "outputs": [
    {
     "name": "stdout",
     "output_type": "stream",
     "text": [
      "\n",
      " In our dataset, the first movie that was released was in 1888\n",
      "\n",
      " The first event in the historical dataset that happened after the first movie was released was in 1888\n"
     ]
    }
   ],
   "source": [
    "# the historical dataset starts from very ancient times, we want to only keep events happening after the first movie was released\n",
    "# for this purpose, we need to make the date values more convenient to work with, by converting the column ['Year'] from str to int\n",
    "cleaned_data_history.loc[:, 'Year'] = cleaned_data_history.loc[:, 'Year'].astype(int)\n",
    "    \n",
    "# get the year of the first released movie\n",
    "first_movie_year = movies_data['Year'].min()\n",
    "print('\\n In our dataset, the first movie that was released was in', int(first_movie_year))\n",
    "    \n",
    "# remove historical events that happened before the first movie was released\n",
    "cleaned_data_history = cleaned_data_history[cleaned_data_history['Year'] >= first_movie_year]\n",
    "first_event_year = cleaned_data_history['Year'].min()\n",
    "\n",
    "print('\\n The first event in the historical dataset that happened after the first movie was released was in', int(first_event_year))"
   ]
  },
  {
   "cell_type": "code",
   "execution_count": 227,
   "metadata": {},
   "outputs": [
    {
     "data": {
      "text/html": [
       "<div>\n",
       "<style scoped>\n",
       "    .dataframe tbody tr th:only-of-type {\n",
       "        vertical-align: middle;\n",
       "    }\n",
       "\n",
       "    .dataframe tbody tr th {\n",
       "        vertical-align: top;\n",
       "    }\n",
       "\n",
       "    .dataframe thead th {\n",
       "        text-align: right;\n",
       "    }\n",
       "</style>\n",
       "<table border=\"1\" class=\"dataframe\">\n",
       "  <thead>\n",
       "    <tr style=\"text-align: right;\">\n",
       "      <th></th>\n",
       "      <th>Sl. No</th>\n",
       "      <th>Name of Incident</th>\n",
       "      <th>Year</th>\n",
       "      <th>Country</th>\n",
       "      <th>Type of Event</th>\n",
       "      <th>Impact</th>\n",
       "      <th>Affected Population</th>\n",
       "      <th>Important Person/Group Responsible</th>\n",
       "      <th>Outcome</th>\n",
       "    </tr>\n",
       "  </thead>\n",
       "  <tbody>\n",
       "    <tr>\n",
       "      <th>5</th>\n",
       "      <td>9</td>\n",
       "      <td>Partition of India</td>\n",
       "      <td>1947</td>\n",
       "      <td>India</td>\n",
       "      <td>Partition</td>\n",
       "      <td>Creation of India and Pakistan; massive popula...</td>\n",
       "      <td>Hindus, Muslims, Sikhs</td>\n",
       "      <td>British Empire, Indian political leaders</td>\n",
       "      <td>Negative</td>\n",
       "    </tr>\n",
       "    <tr>\n",
       "      <th>6</th>\n",
       "      <td>10</td>\n",
       "      <td>IndoUnknownPakistani War of 1971</td>\n",
       "      <td>1971</td>\n",
       "      <td>India</td>\n",
       "      <td>War</td>\n",
       "      <td>Led to the independence of Bangladesh</td>\n",
       "      <td>Bengalis in East Pakistan</td>\n",
       "      <td>Indian Military, Mukti Bahini</td>\n",
       "      <td>Negative</td>\n",
       "    </tr>\n",
       "    <tr>\n",
       "      <th>7</th>\n",
       "      <td>11</td>\n",
       "      <td>PokhranUnknownII Nuclear Tests</td>\n",
       "      <td>1998</td>\n",
       "      <td>India</td>\n",
       "      <td>Nuclear Test</td>\n",
       "      <td>India declared itself a nuclear state</td>\n",
       "      <td>International community</td>\n",
       "      <td>Atal Bihari Vajpayee</td>\n",
       "      <td>Mixed</td>\n",
       "    </tr>\n",
       "    <tr>\n",
       "      <th>8</th>\n",
       "      <td>12</td>\n",
       "      <td>Mumbai Terror Attacks</td>\n",
       "      <td>2008</td>\n",
       "      <td>India</td>\n",
       "      <td>Terrorism</td>\n",
       "      <td>Highlighted the threat of international terrorism</td>\n",
       "      <td>Citizens of Mumbai</td>\n",
       "      <td>LashkarUnknowneUnknownTaiba</td>\n",
       "      <td>Negative</td>\n",
       "    </tr>\n",
       "    <tr>\n",
       "      <th>12</th>\n",
       "      <td>16</td>\n",
       "      <td>Swadeshi Movement</td>\n",
       "      <td>1905</td>\n",
       "      <td>India</td>\n",
       "      <td>National Movement</td>\n",
       "      <td>Promoted Indian goods; protest against British...</td>\n",
       "      <td>Indian nationalists</td>\n",
       "      <td>Indian National Congress</td>\n",
       "      <td>Positive</td>\n",
       "    </tr>\n",
       "  </tbody>\n",
       "</table>\n",
       "</div>"
      ],
      "text/plain": [
       "    Sl. No                  Name of Incident  Year Country      Type of Event  \\\n",
       "5        9                Partition of India  1947   India          Partition   \n",
       "6       10  IndoUnknownPakistani War of 1971  1971   India                War   \n",
       "7       11    PokhranUnknownII Nuclear Tests  1998   India       Nuclear Test   \n",
       "8       12             Mumbai Terror Attacks  2008   India          Terrorism   \n",
       "12      16                 Swadeshi Movement  1905   India  National Movement   \n",
       "\n",
       "                                               Impact  \\\n",
       "5   Creation of India and Pakistan; massive popula...   \n",
       "6               Led to the independence of Bangladesh   \n",
       "7               India declared itself a nuclear state   \n",
       "8   Highlighted the threat of international terrorism   \n",
       "12  Promoted Indian goods; protest against British...   \n",
       "\n",
       "          Affected Population        Important Person/Group Responsible  \\\n",
       "5      Hindus, Muslims, Sikhs  British Empire, Indian political leaders   \n",
       "6   Bengalis in East Pakistan             Indian Military, Mukti Bahini   \n",
       "7     International community                      Atal Bihari Vajpayee   \n",
       "8          Citizens of Mumbai               LashkarUnknowneUnknownTaiba   \n",
       "12        Indian nationalists                  Indian National Congress   \n",
       "\n",
       "     Outcome  \n",
       "5   Negative  \n",
       "6   Negative  \n",
       "7      Mixed  \n",
       "8   Negative  \n",
       "12  Positive  "
      ]
     },
     "execution_count": 227,
     "metadata": {},
     "output_type": "execute_result"
    }
   ],
   "source": [
    "cleaned_data_history.head()"
   ]
  },
  {
   "cell_type": "code",
   "execution_count": 228,
   "metadata": {},
   "outputs": [],
   "source": [
    "# save the cleaned data to a csv file\n",
    "processed_data_path = '../data/Preprocessed_data/preprocessed_history.csv'\n",
    "cleaned_data_history.to_csv(processed_data_path, encoding='utf-8', errors='ignore', index=False)"
   ]
  },
  {
   "cell_type": "code",
   "execution_count": 229,
   "metadata": {},
   "outputs": [
    {
     "name": "stdout",
     "output_type": "stream",
     "text": [
      "<class 'pandas.core.frame.DataFrame'>\n",
      "Index: 814 entries, 5 to 1095\n",
      "Data columns (total 9 columns):\n",
      " #   Column                              Non-Null Count  Dtype \n",
      "---  ------                              --------------  ----- \n",
      " 0   Sl. No                              814 non-null    int64 \n",
      " 1   Name of Incident                    814 non-null    object\n",
      " 2   Year                                814 non-null    object\n",
      " 3   Country                             814 non-null    object\n",
      " 4   Type of Event                       814 non-null    object\n",
      " 5   Impact                              814 non-null    object\n",
      " 6   Affected Population                 814 non-null    object\n",
      " 7   Important Person/Group Responsible  814 non-null    object\n",
      " 8   Outcome                             814 non-null    object\n",
      "dtypes: int64(1), object(8)\n",
      "memory usage: 63.6+ KB\n"
     ]
    }
   ],
   "source": [
    "cleaned_data_history.info()"
   ]
  },
  {
   "cell_type": "markdown",
   "metadata": {},
   "source": [
    "There are no missing values in the cleaned data history. "
   ]
  }
 ],
 "metadata": {
  "kernelspec": {
   "display_name": "ada",
   "language": "python",
   "name": "python3"
  },
  "language_info": {
   "codemirror_mode": {
    "name": "ipython",
    "version": 3
   },
   "file_extension": ".py",
   "mimetype": "text/x-python",
   "name": "python",
   "nbconvert_exporter": "python",
   "pygments_lexer": "ipython3",
   "version": "3.11.9"
  }
 },
 "nbformat": 4,
 "nbformat_minor": 2
}

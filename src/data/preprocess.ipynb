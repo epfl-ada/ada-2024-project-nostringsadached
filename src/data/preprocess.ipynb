{
 "cells": [
  {
   "cell_type": "code",
   "execution_count": 223,
   "metadata": {},
   "outputs": [],
   "source": [
    "import pandas as pd\n",
    "import sys\n",
    "from datetime import datetime, date, time\n",
    "import ast\n",
    "import numpy as np"
   ]
  },
  {
   "cell_type": "code",
   "execution_count": 224,
   "metadata": {},
   "outputs": [],
   "source": [
    "preprocessed_movies_data = pd.read_csv(\"../../data/MovieSummaries/movie.metadata.tsv\", header= None, delimiter='\\t') # Columns are separated by tabs rather than commas"
   ]
  },
  {
   "cell_type": "code",
   "execution_count": 225,
   "metadata": {},
   "outputs": [
    {
     "data": {
      "text/html": [
       "<div>\n",
       "<style scoped>\n",
       "    .dataframe tbody tr th:only-of-type {\n",
       "        vertical-align: middle;\n",
       "    }\n",
       "\n",
       "    .dataframe tbody tr th {\n",
       "        vertical-align: top;\n",
       "    }\n",
       "\n",
       "    .dataframe thead th {\n",
       "        text-align: right;\n",
       "    }\n",
       "</style>\n",
       "<table border=\"1\" class=\"dataframe\">\n",
       "  <thead>\n",
       "    <tr style=\"text-align: right;\">\n",
       "      <th></th>\n",
       "      <th>0</th>\n",
       "      <th>1</th>\n",
       "      <th>2</th>\n",
       "      <th>3</th>\n",
       "      <th>4</th>\n",
       "      <th>5</th>\n",
       "      <th>6</th>\n",
       "      <th>7</th>\n",
       "      <th>8</th>\n",
       "    </tr>\n",
       "  </thead>\n",
       "  <tbody>\n",
       "    <tr>\n",
       "      <th>0</th>\n",
       "      <td>975900</td>\n",
       "      <td>/m/03vyhn</td>\n",
       "      <td>Ghosts of Mars</td>\n",
       "      <td>2001-08-24</td>\n",
       "      <td>14010832.0</td>\n",
       "      <td>98.0</td>\n",
       "      <td>{\"/m/02h40lc\": \"English Language\"}</td>\n",
       "      <td>{\"/m/09c7w0\": \"United States of America\"}</td>\n",
       "      <td>{\"/m/01jfsb\": \"Thriller\", \"/m/06n90\": \"Science...</td>\n",
       "    </tr>\n",
       "    <tr>\n",
       "      <th>1</th>\n",
       "      <td>3196793</td>\n",
       "      <td>/m/08yl5d</td>\n",
       "      <td>Getting Away with Murder: The JonBenét Ramsey ...</td>\n",
       "      <td>2000-02-16</td>\n",
       "      <td>NaN</td>\n",
       "      <td>95.0</td>\n",
       "      <td>{\"/m/02h40lc\": \"English Language\"}</td>\n",
       "      <td>{\"/m/09c7w0\": \"United States of America\"}</td>\n",
       "      <td>{\"/m/02n4kr\": \"Mystery\", \"/m/03bxz7\": \"Biograp...</td>\n",
       "    </tr>\n",
       "  </tbody>\n",
       "</table>\n",
       "</div>"
      ],
      "text/plain": [
       "         0          1                                                  2  \\\n",
       "0   975900  /m/03vyhn                                     Ghosts of Mars   \n",
       "1  3196793  /m/08yl5d  Getting Away with Murder: The JonBenét Ramsey ...   \n",
       "\n",
       "            3           4     5                                   6  \\\n",
       "0  2001-08-24  14010832.0  98.0  {\"/m/02h40lc\": \"English Language\"}   \n",
       "1  2000-02-16         NaN  95.0  {\"/m/02h40lc\": \"English Language\"}   \n",
       "\n",
       "                                           7  \\\n",
       "0  {\"/m/09c7w0\": \"United States of America\"}   \n",
       "1  {\"/m/09c7w0\": \"United States of America\"}   \n",
       "\n",
       "                                                   8  \n",
       "0  {\"/m/01jfsb\": \"Thriller\", \"/m/06n90\": \"Science...  \n",
       "1  {\"/m/02n4kr\": \"Mystery\", \"/m/03bxz7\": \"Biograp...  "
      ]
     },
     "execution_count": 225,
     "metadata": {},
     "output_type": "execute_result"
    }
   ],
   "source": [
    "preprocessed_movies_data.head(2)"
   ]
  },
  {
   "cell_type": "code",
   "execution_count": 226,
   "metadata": {},
   "outputs": [
    {
     "data": {
      "text/plain": [
       "81741"
      ]
     },
     "execution_count": 226,
     "metadata": {},
     "output_type": "execute_result"
    }
   ],
   "source": [
    "#Add headers to the dataframe and remove unnecessary columns\n",
    "\n",
    "headers = [\n",
    "    \"Wikipedia movie ID\",\n",
    "    \"Freebase movie ID\",\n",
    "    \"Movie name\",\n",
    "    \"Movie release date\",\n",
    "    \"Movie box office revenue\",\n",
    "    \"Movie runtime\",\n",
    "    \"Movie languages (Freebase ID:name tuples)\",\n",
    "    \"Movie countries (Freebase ID:name tuples)\",\n",
    "    \"Movie genres (Freebase ID:name tuples)\"\n",
    "]\n",
    "\n",
    "preprocessed_movies_data.columns = headers\n",
    "preprocessed_movies_data.drop(columns=[\"Wikipedia movie ID\",\"Freebase movie ID\"], inplace=True)\n",
    "\n",
    "len(preprocessed_movies_data)"
   ]
  },
  {
   "cell_type": "code",
   "execution_count": 228,
   "metadata": {},
   "outputs": [],
   "source": [
    "def extract_names(cell):\n",
    "    #Transform the string of dictionaries into a list of real dictionaries with the id referring to the key and the name referring to the value\n",
    "    #Then only extract the names from the dictionaries\n",
    "    try:\n",
    "        data_dict = ast.literal_eval(cell)\n",
    "        return \", \".join(data_dict.values())\n",
    "    except (ValueError, SyntaxError):\n",
    "        return cell"
   ]
  },
  {
   "cell_type": "code",
   "execution_count": 229,
   "metadata": {},
   "outputs": [],
   "source": [
    "#remove the id, only keep the name\n",
    "preprocessed_movies_data[\"Movie languages\"] = preprocessed_movies_data[\"Movie languages (Freebase ID:name tuples)\"].apply(extract_names)\n",
    "preprocessed_movies_data[\"Movie countries\"] = preprocessed_movies_data[\"Movie countries (Freebase ID:name tuples)\"].apply(extract_names)\n",
    "preprocessed_movies_data[\"Movie genres\"] = preprocessed_movies_data[\"Movie genres (Freebase ID:name tuples)\"].apply(extract_names)\n",
    "preprocessed_movies_data.drop(columns=[\"Movie languages (Freebase ID:name tuples)\", \"Movie countries (Freebase ID:name tuples)\", \"Movie genres (Freebase ID:name tuples)\"], inplace=True)"
   ]
  },
  {
   "cell_type": "code",
   "execution_count": null,
   "metadata": {},
   "outputs": [],
   "source": [
    "#All the films that have no genre indicated are tranformed into NaN\n",
    "\n",
    "preprocessed_movies_data['Movie genres'] = preprocessed_movies_data['Movie genres'].apply(lambda x: np.nan if x == '' else x)\n"
   ]
  },
  {
   "cell_type": "code",
   "execution_count": 239,
   "metadata": {},
   "outputs": [
    {
     "data": {
      "text/plain": [
       "79447"
      ]
     },
     "execution_count": 239,
     "metadata": {},
     "output_type": "execute_result"
    }
   ],
   "source": [
    "#Then the lines with nan values in genre are removed\n",
    "preprocessed_movies_data= preprocessed_movies_data.dropna(subset=[\"Movie genres\"])\n",
    "len(preprocessed_movies_data)"
   ]
  },
  {
   "cell_type": "markdown",
   "metadata": {},
   "source": [
    "We don't lost a lot of data by dropping the NA, so the analysis will stay pertinent"
   ]
  },
  {
   "cell_type": "markdown",
   "metadata": {},
   "source": [
    "### Time Process\n",
    "\n",
    "We only keep the year of the film and drop the movies without any date (6000 values)"
   ]
  },
  {
   "cell_type": "code",
   "execution_count": 240,
   "metadata": {},
   "outputs": [
    {
     "name": "stdout",
     "output_type": "stream",
     "text": [
      "73077\n"
     ]
    }
   ],
   "source": [
    "timeprocess_movies_data = preprocessed_movies_data.dropna(subset=[\"Movie release date\"]).copy()\n",
    "print(len(timeprocess_movies_data))    \n"
   ]
  },
  {
   "cell_type": "markdown",
   "metadata": {},
   "source": [
    "Je comprend pas pourquoi les dates s affichent en .0 ??"
   ]
  },
  {
   "cell_type": "code",
   "execution_count": 241,
   "metadata": {},
   "outputs": [],
   "source": [
    "def extract_year(date_str):\n",
    "    if len(date_str) == 4 and date_str.isdigit():\n",
    "        return date_str\n",
    "    else:\n",
    "        # Use pd.to_datetime for other formats and extract year\n",
    "        return pd.to_datetime(date_str, errors='coerce').year"
   ]
  },
  {
   "cell_type": "code",
   "execution_count": 242,
   "metadata": {},
   "outputs": [
    {
     "data": {
      "text/html": [
       "<div>\n",
       "<style scoped>\n",
       "    .dataframe tbody tr th:only-of-type {\n",
       "        vertical-align: middle;\n",
       "    }\n",
       "\n",
       "    .dataframe tbody tr th {\n",
       "        vertical-align: top;\n",
       "    }\n",
       "\n",
       "    .dataframe thead th {\n",
       "        text-align: right;\n",
       "    }\n",
       "</style>\n",
       "<table border=\"1\" class=\"dataframe\">\n",
       "  <thead>\n",
       "    <tr style=\"text-align: right;\">\n",
       "      <th></th>\n",
       "      <th>Movie name</th>\n",
       "      <th>Movie box office revenue</th>\n",
       "      <th>Movie runtime</th>\n",
       "      <th>Movie languages</th>\n",
       "      <th>Movie countries</th>\n",
       "      <th>Movie genres</th>\n",
       "      <th>Year</th>\n",
       "    </tr>\n",
       "  </thead>\n",
       "  <tbody>\n",
       "    <tr>\n",
       "      <th>0</th>\n",
       "      <td>Ghosts of Mars</td>\n",
       "      <td>14010832.0</td>\n",
       "      <td>98.0</td>\n",
       "      <td>English Language</td>\n",
       "      <td>United States of America</td>\n",
       "      <td>Thriller, Science Fiction, Horror, Adventure, ...</td>\n",
       "      <td>2001</td>\n",
       "    </tr>\n",
       "    <tr>\n",
       "      <th>1</th>\n",
       "      <td>Getting Away with Murder: The JonBenét Ramsey ...</td>\n",
       "      <td>NaN</td>\n",
       "      <td>95.0</td>\n",
       "      <td>English Language</td>\n",
       "      <td>United States of America</td>\n",
       "      <td>Mystery, Biographical film, Drama, Crime Drama</td>\n",
       "      <td>2000</td>\n",
       "    </tr>\n",
       "  </tbody>\n",
       "</table>\n",
       "</div>"
      ],
      "text/plain": [
       "                                          Movie name  \\\n",
       "0                                     Ghosts of Mars   \n",
       "1  Getting Away with Murder: The JonBenét Ramsey ...   \n",
       "\n",
       "   Movie box office revenue  Movie runtime   Movie languages  \\\n",
       "0                14010832.0           98.0  English Language   \n",
       "1                       NaN           95.0  English Language   \n",
       "\n",
       "            Movie countries  \\\n",
       "0  United States of America   \n",
       "1  United States of America   \n",
       "\n",
       "                                        Movie genres  Year  \n",
       "0  Thriller, Science Fiction, Horror, Adventure, ...  2001  \n",
       "1     Mystery, Biographical film, Drama, Crime Drama  2000  "
      ]
     },
     "execution_count": 242,
     "metadata": {},
     "output_type": "execute_result"
    }
   ],
   "source": [
    "timeprocess_movies_data['Year'] = timeprocess_movies_data['Movie release date'].apply(extract_year)\n",
    "timeprocess_movies_data.drop(columns=[\"Movie release date\"], inplace=True)\n",
    "timeprocess_movies_data.head(2)"
   ]
  },
  {
   "cell_type": "code",
   "execution_count": 243,
   "metadata": {},
   "outputs": [],
   "source": [
    "processed_data_path = '../../data/PreprocessedMovie/preprocessed_movie_metadata.csv'\n",
    "\n",
    "# Sauvegarder le DataFrame transformé\n",
    "timeprocess_movies_data.to_csv(processed_data_path, encoding='utf-8', errors='ignore', index=False)"
   ]
  },
  {
   "cell_type": "code",
   "execution_count": null,
   "metadata": {},
   "outputs": [],
   "source": []
  }
 ],
 "metadata": {
  "kernelspec": {
   "display_name": "ada",
   "language": "python",
   "name": "python3"
  },
  "language_info": {
   "codemirror_mode": {
    "name": "ipython",
    "version": 3
   },
   "file_extension": ".py",
   "mimetype": "text/x-python",
   "name": "python",
   "nbconvert_exporter": "python",
   "pygments_lexer": "ipython3",
   "version": "3.11.9"
  }
 },
 "nbformat": 4,
 "nbformat_minor": 2
}

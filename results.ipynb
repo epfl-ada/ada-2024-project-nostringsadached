{
 "cells": [
  {
   "cell_type": "markdown",
   "metadata": {},
   "source": [
    "C'est ici que toute la documentation du pipeline, les résultats et les analyses visuelles sont intégrés.\n",
    "\n",
    "Ce notebook contient les explications et appelle les scripts du dossier src/ pour exécuter chaque étape du pipeline.\n",
    "\n",
    "On l'utilise pour charger et exécuter le pipeline étape par étape. \n",
    "\n",
    "Par exemple, pour exécuter la partie nettoyage, importer et exécuter data_preprocessing.py depuis src/.\n",
    "\n",
    "À chaque étape (nettoyage, analyse des données, visualisations), ajouter des cellules Markdown dans le notebook pour expliquer ce que fait chaque étape, pourquoi elle est nécessaire, et les observations tirées des résultats.\n",
    "\n",
    "C’est également ici que nous ajouterons les graphiques et analyses visuelles pour expliquer nos résultats intermédiaires."
   ]
  },
  {
   "cell_type": "markdown",
   "metadata": {},
   "source": [
    "Expliquer ce que l'on fait dans notre projet et que pour ce faire nous utiliserons une version clean de movie_metadata.\n",
    "On affiche à partir de quelle année notre base de données de films commence pour exclure les évènements historiques trop lointains dans notre dataset additionnel.\n",
    "On veut garder la première colonne pour relier le film à son résumé mais aussi la plupart des autres.\n",
    "On veut transformer les formats de dates pour l’analyse temporelle."
   ]
  },
  {
   "cell_type": "code",
   "execution_count": 5,
   "metadata": {},
   "outputs": [
    {
     "name": "stdout",
     "output_type": "stream",
     "text": [
      "à compléter\n",
      "      975900   /m/03vyhn            Ghosts of Mars  2001-08-24     14010832  \\\n",
      "6   10408933  /m/02qc0j7  Alexander's Ragtime Band  1938-08-16    3600000.0   \n",
      "12    171005   /m/016ywb                   Henry V  1989-11-08   10161099.0   \n",
      "16     77856    /m/0kcn7              Mary Poppins  1964-08-27  102272727.0   \n",
      "20    612710   /m/02wjqm            New Rose Hotel  1999-10-01      21521.0   \n",
      "28    156558   /m/014k4y                  Baby Boy  2001-06-27   29381649.0   \n",
      "\n",
      "     98.0  {\"/m/02h40lc\": \"English Language\"}  \\\n",
      "6   106.0  {\"/m/02h40lc\": \"English Language\"}   \n",
      "12  137.0  {\"/m/02h40lc\": \"English Language\"}   \n",
      "16  139.0  {\"/m/02h40lc\": \"English Language\"}   \n",
      "20   92.0  {\"/m/02h40lc\": \"English Language\"}   \n",
      "28  123.0  {\"/m/02h40lc\": \"English Language\"}   \n",
      "\n",
      "    {\"/m/09c7w0\": \"United States of America\"}  \\\n",
      "6   {\"/m/09c7w0\": \"United States of America\"}   \n",
      "12             {\"/m/07ssc\": \"United Kingdom\"}   \n",
      "16  {\"/m/09c7w0\": \"United States of America\"}   \n",
      "20  {\"/m/09c7w0\": \"United States of America\"}   \n",
      "28  {\"/m/09c7w0\": \"United States of America\"}   \n",
      "\n",
      "   {\"/m/01jfsb\": \"Thriller\", \"/m/06n90\": \"Science Fiction\", \"/m/03npn\": \"Horror\", \"/m/03k9fj\": \"Adventure\", \"/m/0fdjb\": \"Supernatural\", \"/m/02kdv5l\": \"Action\", \"/m/09zvmj\": \"Space western\"}  \n",
      "6   {\"/m/04t36\": \"Musical\", \"/m/01z4y\": \"Comedy\", ...                                                                                                                                          \n",
      "12  {\"/m/04xvh5\": \"Costume drama\", \"/m/082gq\": \"Wa...                                                                                                                                          \n",
      "16  {\"/m/0hj3myq\": \"Children's/Family\", \"/m/04t36\"...                                                                                                                                          \n",
      "20  {\"/m/01jfsb\": \"Thriller\", \"/m/06n90\": \"Science...                                                                                                                                          \n",
      "28  {\"/m/0lsxr\": \"Crime Fiction\", \"/m/07s9rl0\": \"D...                                                                                                                                          \n"
     ]
    }
   ],
   "source": [
    "from src.data_preprocessing import *\n",
    "from tests.test_data_preprocessing import test_cleaned_movie_data\n",
    "import pandas as pd\n",
    "\n",
    "movies_data = pd.read_csv(\"data/MovieSummaries/movie.metadata.tsv\", delimiter='\\t') # Columns are separated by tabs rather than commas\n",
    "\n",
    "# Cleaning the raw data of the movies dataset\n",
    "cleaned_movies_data = clean_movie_data(movies_data)\n",
    "\n",
    "#Checking if the cleaning worked \n",
    "test_cleaned_movie_data(cleaned_movies_data)\n",
    "\n",
    "# Print the cleaned data results\n",
    "print(cleaned_movies_data.head())\n"
   ]
  },
  {
   "cell_type": "code",
   "execution_count": null,
   "metadata": {},
   "outputs": [],
   "source": []
  },
  {
   "cell_type": "markdown",
   "metadata": {},
   "source": [
    "On veut aussi clean et tokeniser les résumés de films pour en trouver plus facilement le thème (lien historique ou non) et se débarasser des valeurs manquantes."
   ]
  },
  {
   "cell_type": "code",
   "execution_count": 6,
   "metadata": {},
   "outputs": [
    {
     "name": "stdout",
     "output_type": "stream",
     "text": [
      "à compléter\n",
      "à compléter\n",
      "         id                                               plot\n",
      "0  23890098  Shlykov, a hard-working taxi driver and Lyosha...\n",
      "1  31186339  The nation of Panem consists of a wealthy Capi...\n",
      "2  20663735  Poovalli Induchoodan  is sentenced for six yea...\n",
      "3   2231378  The Lemon Drop Kid , a New York City swindler,...\n",
      "4    595909  Seventh-day Adventist Church pastor Michael Ch...\n"
     ]
    }
   ],
   "source": [
    "from src.data_preprocessing import vectorize_plot_data, clean_plot_data\n",
    "from tests.test_data_preprocessing import test_cleaned_plot_data, test_vectorized_plot_data\n",
    "import pandas as pd\n",
    "\n",
    "plot_data = pd.read_csv(\"data/MovieSummaries/plot_summaries.txt\", delimiter='\\t', header=None, names=['id', 'plot']) #document texte\n",
    "\n",
    "# Cleaning the raw data and checking if it worked\n",
    "cleaned_plot_data= clean_plot_data(plot_data)\n",
    "test_cleaned_plot_data(cleaned_plot_data)\n",
    "\n",
    "#Vectorizing/Tokenizing the cleaned data and checking if it worked\n",
    "vectorized_plot_data = vectorize_plot_data(cleaned_plot_data)\n",
    "test_vectorized_plot_data(vectorize_plot_data)\n",
    "\n",
    "# Print the cleaned and vectorized/tokenized data results\n",
    "print(vectorized_plot_data.head())"
   ]
  },
  {
   "cell_type": "markdown",
   "metadata": {},
   "source": [
    "Enfin, on veut clean notre dataset additionnel, création de catégories utiles pour l’analyse, comme « guerre », « crise économique », « période de stabilité ». On cherche encore ici à vectoriser et mettre sous forme de token certains types de mots en identifiant les catégories qui nous intéressent.\n",
    "On veut éliminer les valeurs manquantes ainsi que les événements historiques beaucoup trop vieux pour notre analyse.\n",
    "Peu importe la méthode utilisée pour tokeniser/vectroriser, expliquer ici pourquoi c'est approprié pour nos objectif et donner une  brève explication mathématique si possible.\n",
    "On veut aussi transformer les formats de dates pour l’analyse temporelle à l'image de notre movie dataset."
   ]
  },
  {
   "cell_type": "code",
   "execution_count": 7,
   "metadata": {},
   "outputs": [
    {
     "name": "stdout",
     "output_type": "stream",
     "text": [
      "\n",
      " The size of the original historical dataset is (1096, 12)\n",
      "\n",
      " In our dataset, the first movie that was released was in 1892\n",
      "\n",
      "     Sl. No                  Name of Incident Date     Month  Year Country  \\\n",
      "5        9                Partition of India   15    August  1947   India   \n",
      "6       10  IndoUnknownPakistani War of 1971    3  December  1971   India   \n",
      "7       11    PokhranUnknownII Nuclear Tests   11       May  1998   India   \n",
      "8       12             Mumbai Terror Attacks   26  November  2008   India   \n",
      "12      16                 Swadeshi Movement    7    August  1905   India   \n",
      "\n",
      "        Type of Event      Place Name  \\\n",
      "5           Partition  India/Pakistan   \n",
      "6                 War      Bangladesh   \n",
      "7        Nuclear Test         Pokhran   \n",
      "8           Terrorism          Mumbai   \n",
      "12  National Movement          Bengal   \n",
      "\n",
      "                                               Impact  \\\n",
      "5   Creation of India and Pakistan; massive popula...   \n",
      "6               Led to the independence of Bangladesh   \n",
      "7               India declared itself a nuclear state   \n",
      "8   Highlighted the threat of international terrorism   \n",
      "12  Promoted Indian goods; protest against British...   \n",
      "\n",
      "          Affected Population        Important Person/Group Responsible  \\\n",
      "5      Hindus, Muslims, Sikhs  British Empire, Indian political leaders   \n",
      "6   Bengalis in East Pakistan             Indian Military, Mukti Bahini   \n",
      "7     International community                      Atal Bihari Vajpayee   \n",
      "8          Citizens of Mumbai               LashkarUnknowneUnknownTaiba   \n",
      "12        Indian nationalists                  Indian National Congress   \n",
      "\n",
      "     Outcome  \n",
      "5   Negative  \n",
      "6   Negative  \n",
      "7      Mixed  \n",
      "8   Negative  \n",
      "12  Positive  \n",
      "\n",
      " The size of the cleaned historical dataset is now (811, 12)\n",
      "à compléter\n",
      "à compléter\n",
      "    Sl. No                  Name of Incident Date     Month  Year Country  \\\n",
      "5        9                Partition of India   15    August  1947   India   \n",
      "6       10  IndoUnknownPakistani War of 1971    3  December  1971   India   \n",
      "7       11    PokhranUnknownII Nuclear Tests   11       May  1998   India   \n",
      "8       12             Mumbai Terror Attacks   26  November  2008   India   \n",
      "12      16                 Swadeshi Movement    7    August  1905   India   \n",
      "\n",
      "        Type of Event      Place Name  \\\n",
      "5           Partition  India/Pakistan   \n",
      "6                 War      Bangladesh   \n",
      "7        Nuclear Test         Pokhran   \n",
      "8           Terrorism          Mumbai   \n",
      "12  National Movement          Bengal   \n",
      "\n",
      "                                               Impact  \\\n",
      "5   Creation of India and Pakistan; massive popula...   \n",
      "6               Led to the independence of Bangladesh   \n",
      "7               India declared itself a nuclear state   \n",
      "8   Highlighted the threat of international terrorism   \n",
      "12  Promoted Indian goods; protest against British...   \n",
      "\n",
      "          Affected Population        Important Person/Group Responsible  \\\n",
      "5      Hindus, Muslims, Sikhs  British Empire, Indian political leaders   \n",
      "6   Bengalis in East Pakistan             Indian Military, Mukti Bahini   \n",
      "7     International community                      Atal Bihari Vajpayee   \n",
      "8          Citizens of Mumbai               LashkarUnknowneUnknownTaiba   \n",
      "12        Indian nationalists                  Indian National Congress   \n",
      "\n",
      "     Outcome  \n",
      "5   Negative  \n",
      "6   Negative  \n",
      "7      Mixed  \n",
      "8   Negative  \n",
      "12  Positive  \n"
     ]
    },
    {
     "name": "stderr",
     "output_type": "stream",
     "text": [
      "c:\\Users\\lauri\\Documents\\GitHub\\ada-2024-project-nostringsadached\\src\\data_preprocessing.py:27: SettingWithCopyWarning: \n",
      "A value is trying to be set on a copy of a slice from a DataFrame.\n",
      "Try using .loc[row_indexer,col_indexer] = value instead\n",
      "\n",
      "See the caveats in the documentation: https://pandas.pydata.org/pandas-docs/stable/user_guide/indexing.html#returning-a-view-versus-a-copy\n",
      "  cleaned_data_history['Year'] = cleaned_data_history['Year'].astype(int) # converts the column ['Year'] from str to int\n"
     ]
    }
   ],
   "source": [
    "from src.data_preprocessing import vectorize_historical_data, clean_historical_data\n",
    "from tests.test_data_preprocessing import test_cleaned_historical_data, test_vectorized_historical_data\n",
    "import pandas as pd\n",
    "\n",
    "history_data = pd.read_csv(\"data/HistoricalDataset/historical.dataset.csv\")\n",
    "\n",
    "# Cleaning the raw data of the history dataset\n",
    "print('\\n The size of the original historical dataset is', history_data.shape)\n",
    "cleaned_history = clean_historical_data(movies_data, history_data)\n",
    "print('\\n', cleaned_history.head())\n",
    "print('\\n The size of the cleaned historical dataset is now', cleaned_history.shape) \n",
    "\n",
    "test_cleaned_historical_data(cleaned_history)\n",
    "\n",
    "#Vectorizing/Tokenizing the cleaned data and checking if it worked\n",
    "vectorized_historical_data = vectorize_historical_data(cleaned_history)\n",
    "test_vectorized_historical_data(vectorize_historical_data)\n",
    "\n",
    "# Print the cleaned and vectorized/tokenized data results\n",
    "print(vectorized_historical_data.head())"
   ]
  },
  {
   "cell_type": "markdown",
   "metadata": {},
   "source": [
    "La prochaine étape est de faire des plots, voici mes idées mais rajoutez en à votre guise!! \n",
    "\n",
    "- Proportion de chaque genre dans les films sortis chaque année. (lineplot?)\n",
    "- Heatmap temporelle avec les années et les genres pourrait aussi aider à voir les pics et baisses de popularité des genres.\n",
    "- Comparer les genres populaires à des périodes historiques précises (avant, pendant, après).\n",
    "- Ligne temporelle des revenus du box office pour des genres particuliers, avec des annotations pour les films les plus réussis. Les pics ou succès importants peuvent être marqués pour voir si d'autres films de genre similaire ont suivi. (matplotib.pyplot)\n",
    "- Montrez la durée pendant laquelle un genre reste populaire après le succès d’un film spécifique. Chaque barre représente un genre et montre la période pendant laquelle il est resté en tendance. (barplot?)\n",
    "- Carte géographique et graphique pour montrer l’origine des films (par pays) et un graphique en barres empilées pour voir comment les genres évoluent dans les différentes régions, en mettant en avant la diffusion de genres américains. (plotly.express.choropleth et seaborn)\n"
   ]
  },
  {
   "cell_type": "code",
   "execution_count": 8,
   "metadata": {},
   "outputs": [],
   "source": [
    "# Appels au méthodes de plot dans analysis dans src apres nettoyage."
   ]
  }
 ],
 "metadata": {
  "kernelspec": {
   "display_name": "ada",
   "language": "python",
   "name": "python3"
  },
  "language_info": {
   "codemirror_mode": {
    "name": "ipython",
    "version": 3
   },
   "file_extension": ".py",
   "mimetype": "text/x-python",
   "name": "python",
   "nbconvert_exporter": "python",
   "pygments_lexer": "ipython3",
   "version": "3.11.9"
  }
 },
 "nbformat": 4,
 "nbformat_minor": 2
}

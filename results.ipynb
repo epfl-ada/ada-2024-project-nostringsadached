{
 "cells": [
  {
   "cell_type": "markdown",
   "metadata": {},
   "source": [
    "C'est ici que toute la documentation du pipeline, les résultats et les analyses visuelles sont intégrés.\n",
    "\n",
    "Ce notebook contient les explications et appelle les scripts du dossier src/ pour exécuter chaque étape du pipeline.\n",
    "\n",
    "On l'utilise pour charger et exécuter le pipeline étape par étape. \n",
    "\n",
    "Par exemple, pour exécuter la partie nettoyage, importer et exécuter data_preprocessing.py depuis src/.\n",
    "\n",
    "À chaque étape (nettoyage, analyse des données, visualisations), ajouter des cellules Markdown dans le notebook pour expliquer ce que fait chaque étape, pourquoi elle est nécessaire, et les observations tirées des résultats.\n",
    "\n",
    "C’est également ici que nous ajouterons les graphiques et analyses visuelles pour expliquer nos résultats intermédiaires."
   ]
  },
  {
   "cell_type": "markdown",
   "metadata": {},
   "source": [
    "Expliquer ce que l'on fait dans notre projet et que pour ce faire nous utiliserons une version clean de movie_metadata.\n",
    "On affiche à partir de quelle année notre base de données de films commence pour exclure les évènements historiques trop lointains dans notre dataset additionnel.\n",
    "On veut garder la première colonne pour relier le film à son résumé mais aussi la plupart des autres.\n",
    "On veut transformer les formats de dates pour l’analyse temporelle."
   ]
  },
  {
   "cell_type": "code",
   "execution_count": null,
   "metadata": {},
   "outputs": [],
   "source": [
    "from src.data_preprocessing import clean_movie_data \n",
    "from tests.test_data_preprocessing import test_cleaned_movie_data\n",
    "import pandas as pd\n",
    "\n",
    "movies_data = pd.read_csv(\"data/MovieSummaries/movie.metadata.tsv\", delimiter='\\t') # Columns are separated by tabs rather than commas\n",
    "\n",
    "# Cleaning the raw data\n",
    "cleaned_movies_data = clean_movie_data(movies_data)\n",
    "\n",
    "#Checking if the cleaning worked \n",
    "test_cleaned_movie_data(cleaned_movies_data)\n",
    "\n",
    "# Print the cleaned data results\n",
    "print(cleaned_movies_data.head())"
   ]
  },
  {
   "cell_type": "markdown",
   "metadata": {},
   "source": [
    "On veut aussi clean et tokeniser les résumés de films pour en trouver plus facilement le thème (lien historique ou non) et se débarasser des valeurs manquantes."
   ]
  },
  {
   "cell_type": "code",
   "execution_count": null,
   "metadata": {},
   "outputs": [],
   "source": [
    "from src.data_preprocessing import vectorize_plot_data, clean_plot_data\n",
    "from tests.test_data_preprocessing import test_cleaned_plot_data, test_vectorized_plot_data\n",
    "import pandas as pd\n",
    "\n",
    "plot_data = pd.read_csv(\"data/MovieSummaries/plot.summaries.txt\", delimiter='\\t', header=None, names=['id', 'plot']) #document texte\n",
    "\n",
    "# Cleaning the raw data and checking if it worked\n",
    "cleaned_plot_data= clean_plot_data(plot_data)\n",
    "test_cleaned_plot_data(cleaned_plot_data)\n",
    "\n",
    "#Vectorizing/Tokenizing the cleaned data and checking if it worked\n",
    "vectorized_plot_data = vectorize_plot_data(cleaned_plot_data)\n",
    "test_vectorized_plot_data(vectorize_plot_data)\n",
    "\n",
    "# Print the cleaned and vectorized/tokenized data results\n",
    "print(vectorized_plot_data.head())"
   ]
  },
  {
   "cell_type": "markdown",
   "metadata": {},
   "source": [
    "Enfin, on veut clean notre dataset additionnel, création de catégories utiles pour l’analyse, comme « guerre », « crise économique », « période de stabilité ». On cherche encore ici à vectoriser et mettre sous forme de token certains types de mots en identifiant les catégories qui nous intéressent.\n",
    "On veut éliminer les valeurs manquantes ainsi que les événements historiques beaucoup trop vieux pour notre analyse.\n",
    "Peu importe la méthode utilisée pour tokeniser/vectroriser, expliquer ici pourquoi c'est approprié pour nos objectif et donner une  brève explication mathématique si possible.\n",
    "On veut aussi transformer les formats de dates pour l’analyse temporelle à l'image de notre movie dataset."
   ]
  },
  {
   "cell_type": "code",
   "execution_count": null,
   "metadata": {},
   "outputs": [],
   "source": [
    "from src.data_preprocessing import vectorize_historical_data, clean_historical_data\n",
    "from tests.test_data_preprocessing import test_cleaned_historical_data, test_vectorized_historical_data\n",
    "import pandas as pd\n",
    "\n",
    "historical_data = pd.read_csv(\"data/HistoricalDataset/historical.dataset.csv\")\n",
    "\n",
    "# Cleaning the raw data and checking if it worked\n",
    "cleaned_historical_data= clean_historical_data(historical_data)\n",
    "test_cleaned_historical_data(cleaned_historical_data)\n",
    "\n",
    "#Vectorizing/Tokenizing the cleaned data and checking if it worked\n",
    "vectorized_historical_data = vectorize_historical_data(cleaned_historical_data)\n",
    "test_vectorized_historical_data(vectorize_historical_data)\n",
    "\n",
    "# Print the cleaned and vectorized/tokenized data results\n",
    "print(vectorized_historical_data.head())"
   ]
  },
  {
   "cell_type": "markdown",
   "metadata": {},
   "source": [
    "La prochaine étape est de faire des plots, voici mes idées mais rajoutez en à votre guise!! \n",
    "\n",
    "- Proportion de chaque genre dans les films sortis chaque année. (lineplot?)\n",
    "- Heatmap temporelle avec les années et les genres pourrait aussi aider à voir les pics et baisses de popularité des genres.\n",
    "- Comparer les genres populaires à des périodes historiques précises (avant, pendant, après).\n",
    "- Ligne temporelle des revenus du box office pour des genres particuliers, avec des annotations pour les films les plus réussis. Les pics ou succès importants peuvent être marqués pour voir si d'autres films de genre similaire ont suivi. (matplotib.pyplot)\n",
    "- Montrez la durée pendant laquelle un genre reste populaire après le succès d’un film spécifique. Chaque barre représente un genre et montre la période pendant laquelle il est resté en tendance. (barplot?)\n",
    "- Carte géographique et graphique pour montrer l’origine des films (par pays) et un graphique en barres empilées pour voir comment les genres évoluent dans les différentes régions, en mettant en avant la diffusion de genres américains. (plotly.express.choropleth et seaborn)\n"
   ]
  },
  {
   "cell_type": "code",
   "execution_count": 1,
   "metadata": {},
   "outputs": [],
   "source": [
    "# Appels au méthodes de plot dans analysis dans src apres nettoyage."
   ]
  }
 ],
 "metadata": {
  "kernelspec": {
   "display_name": "env_ada",
   "language": "python",
   "name": "python3"
  },
  "language_info": {
   "codemirror_mode": {
    "name": "ipython",
    "version": 3
   },
   "file_extension": ".py",
   "mimetype": "text/x-python",
   "name": "python",
   "nbconvert_exporter": "python",
   "pygments_lexer": "ipython3",
   "version": "3.10.7"
  }
 },
 "nbformat": 4,
 "nbformat_minor": 2
}

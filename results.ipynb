{
 "cells": [
  {
   "cell_type": "markdown",
   "metadata": {},
   "source": [
    "C'est ici que toute la documentation du pipeline, les résultats et les analyses visuelles sont intégrés.\n",
    "\n",
    "Ce notebook contient les explications et appelle les scripts du dossier src/ pour exécuter chaque étape du pipeline.\n",
    "\n",
    "On l'utilise pour charger et exécuter le pipeline étape par étape. \n",
    "\n",
    "Par exemple, pour exécuter la partie nettoyage, importer et exécuter data_preprocessing.py depuis src/.\n",
    "\n",
    "À chaque étape (nettoyage, analyse des données, visualisations), ajouter des cellules Markdown dans le notebook pour expliquer ce que fait chaque étape, pourquoi elle est nécessaire, et les observations tirées des résultats.\n",
    "\n",
    "C’est également ici que nous ajouterons les graphiques et analyses visuelles pour expliquer nos résultats intermédiaires."
   ]
  },
  {
   "cell_type": "code",
   "execution_count": null,
   "metadata": {},
   "outputs": [
    {
     "name": "stdout",
     "output_type": "stream",
     "text": [
      "      975900   /m/03vyhn            Ghosts of Mars  2001-08-24     14010832  \\\n",
      "6   10408933  /m/02qc0j7  Alexander's Ragtime Band  1938-08-16    3600000.0   \n",
      "12    171005   /m/016ywb                   Henry V  1989-11-08   10161099.0   \n",
      "16     77856    /m/0kcn7              Mary Poppins  1964-08-27  102272727.0   \n",
      "20    612710   /m/02wjqm            New Rose Hotel  1999-10-01      21521.0   \n",
      "28    156558   /m/014k4y                  Baby Boy  2001-06-27   29381649.0   \n",
      "\n",
      "     98.0  {\"/m/02h40lc\": \"English Language\"}  \\\n",
      "6   106.0  {\"/m/02h40lc\": \"English Language\"}   \n",
      "12  137.0  {\"/m/02h40lc\": \"English Language\"}   \n",
      "16  139.0  {\"/m/02h40lc\": \"English Language\"}   \n",
      "20   92.0  {\"/m/02h40lc\": \"English Language\"}   \n",
      "28  123.0  {\"/m/02h40lc\": \"English Language\"}   \n",
      "\n",
      "    {\"/m/09c7w0\": \"United States of America\"}  \\\n",
      "6   {\"/m/09c7w0\": \"United States of America\"}   \n",
      "12             {\"/m/07ssc\": \"United Kingdom\"}   \n",
      "16  {\"/m/09c7w0\": \"United States of America\"}   \n",
      "20  {\"/m/09c7w0\": \"United States of America\"}   \n",
      "28  {\"/m/09c7w0\": \"United States of America\"}   \n",
      "\n",
      "   {\"/m/01jfsb\": \"Thriller\", \"/m/06n90\": \"Science Fiction\", \"/m/03npn\": \"Horror\", \"/m/03k9fj\": \"Adventure\", \"/m/0fdjb\": \"Supernatural\", \"/m/02kdv5l\": \"Action\", \"/m/09zvmj\": \"Space western\"}  \n",
      "6   {\"/m/04t36\": \"Musical\", \"/m/01z4y\": \"Comedy\", ...                                                                                                                                          \n",
      "12  {\"/m/04xvh5\": \"Costume drama\", \"/m/082gq\": \"Wa...                                                                                                                                          \n",
      "16  {\"/m/0hj3myq\": \"Children's/Family\", \"/m/04t36\"...                                                                                                                                          \n",
      "20  {\"/m/01jfsb\": \"Thriller\", \"/m/06n90\": \"Science...                                                                                                                                          \n",
      "28  {\"/m/0lsxr\": \"Crime Fiction\", \"/m/07s9rl0\": \"D...                                                                                                                                          \n"
     ]
    }
   ],
   "source": [
    "from src.data_preprocessing import clean_data \n",
    "from tests.test_data_preprocessing import test_cleaned_data\n",
    "import pandas as pd\n",
    "\n",
    "raw_data = pd.read_csv(\"data/MovieSummaries/movie.metadata.tsv\", delimiter='\\t') # Columns are separated by tabs rather than commas\n",
    "\n",
    "# Cleaning the raw data\n",
    "cleaned_data = clean_data(raw_data)\n",
    "\n",
    "#Checking if the cleaning worked \n",
    "\n",
    "\n",
    "# Print the cleaned data results\n",
    "print(cleaned_data.head())"
   ]
  }
 ],
 "metadata": {
  "kernelspec": {
   "display_name": "env_ada",
   "language": "python",
   "name": "python3"
  },
  "language_info": {
   "codemirror_mode": {
    "name": "ipython",
    "version": 3
   },
   "file_extension": ".py",
   "mimetype": "text/x-python",
   "name": "python",
   "nbconvert_exporter": "python",
   "pygments_lexer": "ipython3",
   "version": "3.10.7"
  }
 },
 "nbformat": 4,
 "nbformat_minor": 2
}

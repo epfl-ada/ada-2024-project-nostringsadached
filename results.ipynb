{
 "cells": [
  {
   "cell_type": "markdown",
   "metadata": {},
   "source": [
    "# ADA Project - Milestone 3"
   ]
  },
  {
   "cell_type": "markdown",
   "metadata": {},
   "source": [
    "## *Historical and Sociocultural Analysis of the Impact of World Events on Film Genre Trends*"
   ]
  },
  {
   "cell_type": "markdown",
   "metadata": {},
   "source": [
    " *This project will explore historical trends in film genres, analyzing how societal and historical events—such as wars, economic shifts, and cultural influences—affect the popularity of genres. It will also examine the impact of culture and globalization on global film production. The goal is to understand how historical events and cultural dynamics shape film genre trends over time and understand how periods of conflict, economic upheaval, or stability shape audience preferences and genre popularity.*"
   ]
  },
  {
   "cell_type": "markdown",
   "metadata": {},
   "source": [
    "# Exploratory Data Analaysis"
   ]
  },
  {
   "cell_type": "markdown",
   "metadata": {},
   "source": [
    "Before beginning our study, to maximize our ability to manipulate the data, we must first analyze and explore our datasets, understand their key characteristics, and visualize their trends.\n",
    "In this dataset overview, we shall inspect formats, assess distributions and identify data characteristics.\n",
    "We must then proceed with data wrangling, transforming raw data into a structured and usable format for analysis.\n",
    "This includes associating the correct names to our columns, removing outliers, nan and abherrent values and structuring our data so that it may be easier to work with. "
   ]
  },
  {
   "cell_type": "markdown",
   "metadata": {},
   "source": [
    "First and foremost, we must setup the environment with the installation of appropriate libraries. "
   ]
  },
  {
   "cell_type": "code",
   "execution_count": null,
   "metadata": {},
   "outputs": [],
   "source": [
    "import matplotlib.pyplot as plt \n",
    "import pandas as pd\n",
    "import numpy as np\n",
    "import seaborn as sns\n",
    "from src.utils.appendix import *\n",
    "from sklearn.preprocessing import MultiLabelBinarizer \n",
    "import geopandas as gpd\n",
    "import plotly.graph_objects as go\n",
    "from IPython.display import Image\n",
    "%load_ext autoreload\n",
    "%autoreload 2\n",
    "from src.utils.data_cleaning import *\n",
    "from src.utils.visualization import *"
   ]
  },
  {
   "cell_type": "markdown",
   "metadata": {},
   "source": [
    "## 1 - Data Collection"
   ]
  },
  {
   "cell_type": "markdown",
   "metadata": {},
   "source": [
    "We begin with an initial overview of the raw imported data"
   ]
  },
  {
   "cell_type": "code",
   "execution_count": null,
   "metadata": {},
   "outputs": [],
   "source": [
    "raw_movies_data = pd.read_csv(\"data/MoviesDataset/movie.metadata.zip\", header= None, delimiter='\\t') # Columns are separated by tabs rather than commas"
   ]
  },
  {
   "cell_type": "code",
   "execution_count": null,
   "metadata": {},
   "outputs": [],
   "source": [
    "raw_movies_data.head(3)"
   ]
  },
  {
   "cell_type": "code",
   "execution_count": null,
   "metadata": {},
   "outputs": [],
   "source": [
    "initial_length = len(raw_movies_data)\n",
    "print(\"The initial dataframe has\", initial_length, \"lines\", \"and\", len(raw_movies_data.columns), \"columns.\")"
   ]
  },
  {
   "cell_type": "markdown",
   "metadata": {},
   "source": [
    "## 2 - Preliminary Data Cleaning "
   ]
  },
  {
   "cell_type": "markdown",
   "metadata": {},
   "source": [
    "Here are the different steps of our data cleaning: \n",
    "- name the columns for clarity\n",
    "- remove the Freebase ID to keep only the name of the movies\n",
    "- after quantification of NaN values, we saw that the columns 'Movie release date', 'Movie box office revenue', 'Movie runtime', 'Languages', 'Countries' and 'Genres' contain a number of missing values. Almost 90% of the movies are missing the information about the box office revenue, thus we cannot drop the rows with missing value in this column. However, movies with missing dates, countries and movie genre are unusable for our analysis and must therefore be removed from the dataset.\n",
    "By doing so, we loose around 16,6% of the data, which is reasonable.\n",
    "- For our analysis, we will only need the year of the movies, so we formatted the release dates.\n",
    "- Finally, our analysis shows that 8 rows correspond to films released in 2014, 2 in 2015, and 2 in 2016. \n",
    "However, our dataset is based on a study conducted in 2013. \n",
    "Further investigation reveals that these dates are inconsistent with the actual release dates of the films. We therefore consider them as outliers and have decided to remove them."
   ]
  },
  {
   "cell_type": "code",
   "execution_count": null,
   "metadata": {},
   "outputs": [],
   "source": [
    "clean_movies_data = preprocess_movies(raw_movies_data)\n",
    "clean_movies_data = clean_movies_data.dropna(subset=[\"Year\"])\n",
    "clean_movies_data['Year'] = clean_movies_data['Year'].astype(int)\n",
    "clean_movies_data.head()"
   ]
  },
  {
   "cell_type": "markdown",
   "metadata": {},
   "source": [
    "We also checked for duplicates in our dataset. \n"
   ]
  },
  {
   "cell_type": "code",
   "execution_count": null,
   "metadata": {},
   "outputs": [],
   "source": [
    "# Check for completely identical rows (all columns match)\n",
    "exact_duplicates = clean_movies_data[clean_movies_data.duplicated(keep=False)]\n",
    "print(f\"\\nNumber of completely identical rows: {len(exact_duplicates)}\")\n",
    "\n",
    "#duplicates in the Movie name column\n",
    "duplicates = clean_movies_data[clean_movies_data.duplicated(subset=['Movie name'], keep=False)]\n",
    "\n",
    "#number of movie names that appear more than once\n",
    "num_unique_duplicates = len(duplicates['Movie name'].unique())\n",
    "print(f\"\\nNumber of unique movies that are duplicated: {num_unique_duplicates}\")\n",
    "\n",
    "print(\"\\nExample of duplicated movies:\")\n",
    "duplicates[['Movie name', 'Year', 'Genres']].sort_values('Movie name')\n"
   ]
  },
  {
   "cell_type": "markdown",
   "metadata": {},
   "source": [
    "We can see that there are no completely identical rows in our dataset. While 3,542 movie names appear at least twice, these appear to be legitimate remakes of films rather than duplicate entries - they have different release years, and their genres are generally similar which is expected for remakes. Since these represent distinct movies rather than data errors, we will keep all entries in the dataset.\n"
   ]
  },
  {
   "cell_type": "code",
   "execution_count": null,
   "metadata": {},
   "outputs": [],
   "source": [
    "removed_lines = initial_length - len(clean_movies_data)\n",
    "removed_percentage = (removed_lines / initial_length) * 100\n",
    "print(\"After the preprocessing steps, the dataframe has\", len(clean_movies_data), \"rows.\")\n",
    "print(\"A total of \" f\"{removed_lines} rows were removed during the cleaning process, which corresponds to {removed_percentage:.1f}% of the initial dataset.\")"
   ]
  },
  {
   "cell_type": "markdown",
   "metadata": {},
   "source": [
    "### Save the dataset"
   ]
  },
  {
   "cell_type": "markdown",
   "metadata": {},
   "source": [
    "The dataset has been cleaned and reformatted for easier analysis, and we’ve saved the updated version in a compressed format."
   ]
  },
  {
   "cell_type": "code",
   "execution_count": null,
   "metadata": {},
   "outputs": [],
   "source": [
    "processed_data_path = 'data/Preprocessed_data/preprocessed_movie_metadata.csv'\n",
    "clean_movies_data.to_csv(processed_data_path, encoding='utf-8', errors='ignore', index=False)\n",
    "preprocessed_movies = clean_movies_data.copy()"
   ]
  },
  {
   "cell_type": "markdown",
   "metadata": {},
   "source": [
    "After handling the missing values and formatting the data, we are left with 68131 movies in our data set from the initial 81741. We removed 16.7% of the rows. There are still missing values in 3 columns (Movie box office revenue, Movie runtime, and Movie release date) but since these variables are not central to our analysis of genre trends and historical events, we can proceed with our study using the complete data from the columns of interest.\n",
    "We still retain a good amount of information to work with, all while ensuring that our analysis will stay pertinent."
   ]
  },
  {
   "cell_type": "markdown",
   "metadata": {},
   "source": [
    "## 3 - Univariate Analysis"
   ]
  },
  {
   "cell_type": "markdown",
   "metadata": {},
   "source": [
    "Now that we've looked at missing values, it is time to assess one by one the different variables from our data independently to understand its characteristics, look for outliers and trends in their distribution. "
   ]
  },
  {
   "cell_type": "markdown",
   "metadata": {},
   "source": [
    "### Movie Runtime"
   ]
  },
  {
   "cell_type": "code",
   "execution_count": null,
   "metadata": {},
   "outputs": [],
   "source": [
    "preprocessed_movies['Movie runtime'].describe()"
   ]
  },
  {
   "cell_type": "markdown",
   "metadata": {},
   "source": [
    "From the graphical (boxplot below) and non-graphical (statistical) description of this variable, we are able to identify the presence of outliers. The maximum value (1 million minutes) is clearly aberrant. The other outliers can be defined using a certain threshold range."
   ]
  },
  {
   "cell_type": "markdown",
   "metadata": {},
   "source": [
    "Let's investigate these outliers!"
   ]
  },
  {
   "cell_type": "code",
   "execution_count": null,
   "metadata": {},
   "outputs": [],
   "source": [
    "runtime_data = preprocessed_movies['Movie runtime'].dropna()\n",
    "\n",
    "#Boxplot before outlier removal\n",
    "plot_boxplot(runtime_data, 'Movie runtime boxplot (Before Outlier Removal)', 'Movie Runtime (minutes)', figsize=(8, 1), color='lightblue', orient='h')\n",
    "\n",
    "#Identification and removing of outliers \n",
    "low_factor=2\n",
    "up_factor = 10 #We choose a large factor because the distribution is right-skewed and we want to make sure that we do not exclude values that are not outliers.\n",
    "lower_bound, upper_bound=outliers_bounds(runtime_data, low_factor, up_factor)\n",
    "outliers = runtime_data[(runtime_data < lower_bound) | (runtime_data > upper_bound)]\n",
    "print(f\"There are {len(outliers)} outliers among the {len(runtime_data)} runtime values which corresponds to {len(outliers)/len(runtime_data)*100:.2f}% of the values.\")\n",
    "\n",
    "no_outlier_data=preprocessed_movies.copy()\n",
    "no_outlier_data = no_outlier_data[(no_outlier_data['Movie runtime'] >= lower_bound) & (no_outlier_data['Movie runtime'] <= upper_bound)]\n",
    "\n",
    "#Boxplot after outlier removal\n",
    "plot_boxplot(no_outlier_data['Movie runtime'], 'Movie runtime boxplot (After Outlier Removal)', 'Movie Runtime (minutes)', figsize=(8, 1), color='lightblue', orient='h')\n",
    "\n",
    "#Runtime distribution\n",
    "plt.figure()\n",
    "plt.hist(no_outlier_data['Movie runtime'], bins=30,  color='salmon',edgecolor='black')\n",
    "plt.title('Runtime distribution')\n",
    "plt.xlabel('Runtime (minutes)')\n",
    "plt.ylabel('Number of movies')\n",
    "plt.show()\n",
    "\n",
    "no_outlier_data['Movie runtime'].describe()"
   ]
  },
  {
   "cell_type": "markdown",
   "metadata": {},
   "source": [
    "After outlier removal, the distribution of movie runtime seems almost to follow a negative binomial distribution.\n",
    "For now, we choose not to remove the runtime outliers from our dataset since the runtime variable is not currently central to our analysis. Additionally, they represent more than 6% of our data, which is a non-negligible portion that we don't want to discard if it is not necessary."
   ]
  },
  {
   "cell_type": "markdown",
   "metadata": {},
   "source": [
    "### Movie Box Office Revenue"
   ]
  },
  {
   "cell_type": "code",
   "execution_count": null,
   "metadata": {},
   "outputs": [],
   "source": [
    "preprocessed_movies['Movie box office revenue'].describe()"
   ]
  },
  {
   "cell_type": "code",
   "execution_count": null,
   "metadata": {},
   "outputs": [],
   "source": [
    "plot_boxplot(preprocessed_movies['Movie box office revenue'], 'Movie box office revenue boxplot', 'Movie box office revenue (USD)', figsize=(8, 1), color='lightblue', orient='h')"
   ]
  },
  {
   "cell_type": "code",
   "execution_count": null,
   "metadata": {},
   "outputs": [],
   "source": [
    "#Box office revenue distribution\n",
    "plt.figure()\n",
    "plt.hist(preprocessed_movies['Movie box office revenue'], bins=30, color='salmon', edgecolor='black')\n",
    "plt.yscale('log')\n",
    "plt.title('Box office revenue distribution')\n",
    "plt.xlabel('Box office revenue (USD)')\n",
    "plt.ylabel('Number of movies')\n",
    "plt.show()"
   ]
  },
  {
   "cell_type": "code",
   "execution_count": null,
   "metadata": {},
   "outputs": [],
   "source": [
    "preprocessed_movies.sort_values(by='Movie box office revenue', ascending=False).head()"
   ]
  },
  {
   "cell_type": "markdown",
   "metadata": {},
   "source": [
    "From the distribution and boxplot, we can identify two very high values around 2.5 billions USD, but these are not outliers as they correspond to the actual box office revenues of Avatar and Titanic. There do not seem to be any significant outliers in this variable, which is reassuring because we are already quite limited in terms of the number of instances due to the high number of missing values in this category.\n"
   ]
  },
  {
   "cell_type": "markdown",
   "metadata": {},
   "source": [
    "Once more, the distribution is resemblant to a negative binomial one, but mostly most values remain around e+07, with very few great box office hits above 0.5e+09. We must however note that from the initial analysis and cleaning, a lot of values were missing. This could explain the greatly unbalanced distribution described in the histogram and must be considered as a influential factor as we continue this study."
   ]
  },
  {
   "cell_type": "markdown",
   "metadata": {},
   "source": [
    "### Movie Release Year"
   ]
  },
  {
   "cell_type": "markdown",
   "metadata": {},
   "source": [
    "Movie release years is one of the most important numerical value of our analysis. We must therefore carefully study its distribution and trends."
   ]
  },
  {
   "cell_type": "code",
   "execution_count": null,
   "metadata": {},
   "outputs": [],
   "source": [
    "plot_boxplot(preprocessed_movies['Year'], 'Movie Release Years', 'Year', figsize=(8, 1), color='lightblue', orient='h')\n"
   ]
  },
  {
   "cell_type": "markdown",
   "metadata": {},
   "source": [
    "It is important to note for our future analysis that the number of movies produced each year is not uniform. This variability should be taken into account when comparing film counts over time. In some cases, using proportions instead of absolute numbers might provide more meaningful insights."
   ]
  },
  {
   "cell_type": "code",
   "execution_count": null,
   "metadata": {},
   "outputs": [],
   "source": [
    "#Compute decade to which each movie corresponds\n",
    "decades=(preprocessed_movies['Year'] // 10) * 10\n",
    "\n",
    "plt.figure(figsize=(8, 4))\n",
    "decades.hist(bins=range(decades.min(), decades.max() + 10, 10), color='salmon', edgecolor='black')\n",
    "plt.xlabel(\"Decade\")\n",
    "plt.ylabel(\"Number of movies\")\n",
    "plt.xticks(range(decades.min(), decades.max() + 10, 10))\n",
    "plt.title(\"Number of movies per decade\")\n",
    "plt.grid(True, linestyle='--', alpha=0.7)\n",
    "plt.show()"
   ]
  },
  {
   "cell_type": "markdown",
   "metadata": {},
   "source": [
    "### Languages "
   ]
  },
  {
   "cell_type": "code",
   "execution_count": null,
   "metadata": {},
   "outputs": [],
   "source": [
    "#Number of languages in the dataset\n",
    "languages = preprocessed_movies['Languages'].str.split(', ').explode().unique()\n",
    "print(f\"There are {len(languages)} languages in the dataset\")"
   ]
  },
  {
   "cell_type": "code",
   "execution_count": null,
   "metadata": {},
   "outputs": [],
   "source": [
    "top_n = 50\n",
    "\n",
    "language_counts = preprocessed_movies['Languages'].str.split(', ').explode().value_counts()\n",
    "top_languages = language_counts.head(top_n)\n",
    "top_languages_df = top_languages.reset_index()\n",
    "top_languages_df.columns = ['Language', 'Count']\n",
    "\n",
    "\n",
    "plt.figure(figsize=(12, 6))\n",
    "sns.barplot(x='Language', y='Count', data=top_languages_df)\n",
    "plt.yscale('log')\n",
    "plt.xticks(rotation=90)\n",
    "plt.title('Frequency of languages (Log scale)')\n",
    "plt.ylabel('Count (Log Scale)')\n",
    "plt.show()\n",
    "\n",
    "# show the percentage of english language movies compared to the total number of movies\n",
    "english_movies = preprocessed_movies['Languages'].str.contains('English').sum()\n",
    "print(f\"The number of movies in English is {english_movies} which corresponds to {english_movies/len(preprocessed_movies)*100:.2f}% of the total number of movies.\")"
   ]
  },
  {
   "cell_type": "markdown",
   "metadata": {},
   "source": [
    "### Countries"
   ]
  },
  {
   "cell_type": "code",
   "execution_count": null,
   "metadata": {},
   "outputs": [],
   "source": [
    "#Number of countries in the dataset\n",
    "countries = preprocessed_movies['Countries'].str.split(', ').explode().unique()\n",
    "\n",
    "print(f\"There are {len(countries)} countries in the dataset\")"
   ]
  },
  {
   "cell_type": "code",
   "execution_count": null,
   "metadata": {},
   "outputs": [],
   "source": [
    "top_n = 50\n",
    "\n",
    "countries_counts = preprocessed_movies['Countries'].str.split(', ').explode().value_counts()\n",
    "top_countries = countries_counts.head(top_n)\n",
    "top_countries_df = top_countries.reset_index()\n",
    "top_countries_df.columns = ['Countries', 'Count']\n",
    "\n",
    "#Using a logarithmic scale\n",
    "plt.figure(figsize=(12, 6))\n",
    "sns.barplot(x='Countries', y='Count', data=top_countries_df)\n",
    "plt.xticks(rotation=90)\n",
    "plt.yscale('log')\n",
    "plt.title('Frequency of countries (Log Scale)')\n",
    "plt.ylabel('Count (Log Scale)')\n",
    "plt.show()\n",
    "\n",
    "# show the percentage of english language movies compared to the total number of movies\n",
    "american_movies = preprocessed_movies['Countries'].str.contains('United States of America').sum()\n",
    "print(f\"The number of American movies is {american_movies} which corresponds to {american_movies/len(preprocessed_movies)*100:.2f}% of the total number of movies.\")"
   ]
  },
  {
   "cell_type": "markdown",
   "metadata": {},
   "source": [
    "Half of the movies of the dataset are American. We see that they largely dominate the movie industry. This can be explained mainly because of Hollywood's early establishment, access to large budgets, and the widespread use of English and american pop culture that make these movies more accessible and appealing. \n",
    "\n",
    "This suggests that we have sufficient data for an in-depth study of globalization and the influence of the United States on the global film industry."
   ]
  },
  {
   "cell_type": "markdown",
   "metadata": {},
   "source": [
    "### Movie Genres"
   ]
  },
  {
   "cell_type": "markdown",
   "metadata": {},
   "source": [
    "In this section, we will examine how movies are classified into genres. Carefully analyzing, selecting and refining these genre classifications is essential for obtaining meaningful insights. \n",
    "We will discuss our approach to selecting and adjusting genres for our following study. "
   ]
  },
  {
   "cell_type": "code",
   "execution_count": null,
   "metadata": {
    "scrolled": true
   },
   "outputs": [],
   "source": [
    "#Number of genres in the dataset but we can see that there are a lot of categories that could be combined\n",
    "genres = preprocessed_movies['Genres'].str.split(', ').explode().unique()\n",
    "\n",
    "print(f\"There are {len(genres)} genres in the dataset\")"
   ]
  },
  {
   "cell_type": "markdown",
   "metadata": {},
   "source": [
    "Movies are classified into various genres that capture themes, styles, or settings. However, not all these aspects are relevant to our analysis, so we need to select genres that allow us to group films meaningfully.\n",
    "\n",
    "Let's begin by  focusing on the number of movies in each genre category."
   ]
  },
  {
   "cell_type": "markdown",
   "metadata": {},
   "source": [
    "#### ➔ Number of Movies per Genre\n"
   ]
  },
  {
   "cell_type": "code",
   "execution_count": null,
   "metadata": {},
   "outputs": [],
   "source": [
    "genres_counts = preprocessed_movies['Genres'].str.split(', ').explode().value_counts()\n",
    "genres_counts"
   ]
  },
  {
   "cell_type": "markdown",
   "metadata": {},
   "source": [
    "A lot of genres might not be meaningful because they contain few movies. In particular, 86 genres are assigned to 10 movies or less.\n",
    "\n",
    "In order to keep only relevant genres, we can define an arbitrary threshold for the number of movies assigned to each genre."
   ]
  },
  {
   "cell_type": "code",
   "execution_count": null,
   "metadata": {},
   "outputs": [],
   "source": [
    "threshold = 50\n",
    "relevant_genres = genres_counts[genres_counts > threshold]\n",
    "print(f\"Number of genres assigned to more than {threshold} movies: {len(relevant_genres)}.\")"
   ]
  },
  {
   "cell_type": "markdown",
   "metadata": {},
   "source": [
    "Now, we will examine the distribution of the most popular genres."
   ]
  },
  {
   "cell_type": "code",
   "execution_count": null,
   "metadata": {},
   "outputs": [],
   "source": [
    "#30 most widespread genres\n",
    "top_30_genres = relevant_genres.head(50)\n",
    "\n",
    "plt.figure(figsize=(10, 8))\n",
    "top_30_genres.plot(kind='barh', color='#9370DB')\n",
    "plt.xlabel('Number of movies', fontsize=15)\n",
    "plt.title('Distribution of the 30 most widespread genres', fontsize=20)\n",
    "plt.gca().invert_yaxis() \n",
    "\n",
    "for index, value in enumerate(top_30_genres):\n",
    "    plt.text(value + 100, index, str(value), va='center')\n",
    "plt.show()"
   ]
  },
  {
   "cell_type": "markdown",
   "metadata": {},
   "source": [
    "We observe that the 4th genre is \"Black and White\" and the 9th is \"Short Film\"—both of which are not relevant to our analysis. We can manually remove these and other unhelpful categories to focus on more meaningful genre information."
   ]
  },
  {
   "cell_type": "code",
   "execution_count": null,
   "metadata": {},
   "outputs": [],
   "source": [
    "#Remove all the genre that give information about the technical aspect of the movie rather than the content\n",
    "technical_information = ['Silent film','Short Film','Musical', 'Film adaptation',\"Black-and-white\", \"Music\", \"Teen\", \"Stop Motion\"]\n",
    "\n",
    "preprocessed_movies['Genres'] = preprocessed_movies['Genres'].apply(lambda x: filter_genres(x, unwanted_genres=technical_information))"
   ]
  },
  {
   "cell_type": "markdown",
   "metadata": {},
   "source": [
    "#### ➔ Balancing Genre Reduction with Dataset Coverage"
   ]
  },
  {
   "cell_type": "markdown",
   "metadata": {},
   "source": [
    "Even if we want to choose a reduced set of genres, we still want to retain a significant portion of the dataset.\n",
    "We will try to identify the minimum number of genres needed to cover the majority of movies in our dataset.\n",
    "Specifically, we want to analyze how many movies fall into groups defined by an increasing number of genres and determine how many genres are required to capture, for example, 90% of all films."
   ]
  },
  {
   "cell_type": "code",
   "execution_count": null,
   "metadata": {},
   "outputs": [],
   "source": [
    "genre_movies = preprocessed_movies['Genres'].str.split(', ').explode()\n",
    "genre_counts = genre_movies.value_counts().reset_index()\n",
    "genre_counts.columns = ['Genres', 'Count']\n",
    "genre_counts.head(10)"
   ]
  },
  {
   "cell_type": "code",
   "execution_count": null,
   "metadata": {},
   "outputs": [],
   "source": [
    "genre_counts_top_100 = genre_counts.iloc[:100]\n",
    "genre_counts_top_30 = genre_counts.iloc[:30]\n",
    "genre_counts_top_10 = genre_counts.iloc[:10]\n",
    "genre_counts_top_3 = genre_counts.iloc[:3]"
   ]
  },
  {
   "cell_type": "code",
   "execution_count": null,
   "metadata": {},
   "outputs": [],
   "source": [
    "#define a list of genre counts for each top N genres\n",
    "genre_counts_list = [genre_counts_top_100, genre_counts_top_30, genre_counts_top_10, genre_counts_top_3]\n",
    "top_n_values = [100, 30, 10, 3]\n",
    "\n",
    "coverages = {}\n",
    "for top_n, genre_counts in zip(top_n_values, genre_counts_list):\n",
    "    _, coverage = most_common_genres(preprocessed_movies, genre_counts, top_n)\n",
    "    coverages[top_n] = coverage\n",
    "\n",
    "for top_n, coverage in coverages.items():\n",
    "    print(f\"Number of films covered by the {top_n} major genres: {coverage:.2f}%\")\n",
    "\n",
    "print(\"-\"*32)\n",
    "print(f\"60% of the movies are classified into the 3 major genres that are \\n\" , genre_counts_top_3['Genres'].values,  f\"\\n\\nUp to 92% of the film are classified into the 30 major genres that are: \\n\", genre_counts_top_10['Genres'].values)\n",
    "print(\"-\"*32)"
   ]
  },
  {
   "cell_type": "markdown",
   "metadata": {},
   "source": [
    "Thus by a few genre we can cover a large part of the movies, but the remaining 8% of movies that are not covered by these major genres exhibit high variance, as they require many different genres to be classified"
   ]
  },
  {
   "cell_type": "markdown",
   "metadata": {},
   "source": [
    "#### ➔ Correlation Between Genres"
   ]
  },
  {
   "cell_type": "markdown",
   "metadata": {},
   "source": [
    "Based on the genre names alone, we can anticipate that certain genres might be correlated, appearing together frequently in movies. To explore these relationships, we’ll create a heatmap to visualize genre associations and identify any genres that are commonly paired in films."
   ]
  },
  {
   "cell_type": "code",
   "execution_count": null,
   "metadata": {
    "scrolled": true
   },
   "outputs": [],
   "source": [
    "most_10commongenres,coverage10 = most_common_genres(preprocessed_movies, genre_counts_top_10, 10)\n",
    "most_10commongenres = most_10commongenres.dropna(subset=['Genres'])\n",
    "\n",
    "#Tranform the multi label genre of each movie into a binary matrix where each column represent a genre and each row a movie. If the movie is classified into the genre the value is 1 otherwise it is 0\n",
    "mlb = MultiLabelBinarizer()\n",
    "\n",
    "genre_binary_matrix = pd.DataFrame(mlb.fit_transform(most_10commongenres['Genres'].str.split(', ')), columns=mlb.classes_, index=most_10commongenres.index)\n",
    "genre_correlation = genre_binary_matrix.corr()\n",
    "\n",
    "plt.figure(figsize=(10, 8))\n",
    "mask = np.triu(np.ones_like(genre_correlation, dtype=bool))\n",
    "sns.heatmap(genre_correlation, mask=mask, cmap='coolwarm', annot=True, fmt=\".2f\")\n",
    "plt.title('Correlation Between 10 top Movie Genres')\n",
    "plt.show()"
   ]
  },
  {
   "cell_type": "markdown",
   "metadata": {},
   "source": [
    "This heatmap illustrates how frequently two genres are used together to describe the same movie.\n",
    "\n",
    "For example, the combination of \"Crime Fiction\" and \"Thriller\" shows a moderate positive correlation (0.26), suggesting that these genres often co-occur, meaning that movies labeled as \"Crime Fiction\" frequently include elements of \"Thriller\" as well. However, this co-occurrence is only moderately consistent across the dataset.\n",
    "\n",
    "On the other hand, \"Drama\" and \"Documentary\" have a strong negative correlation (-0.28), indicating that these genres are rarely used together. This suggests that movies classified as \"Drama\" are typically not labeled as \"Documentary\" and vice versa.\n",
    "\n",
    "Let's try this heat map for the top 30 genres now."
   ]
  },
  {
   "cell_type": "code",
   "execution_count": null,
   "metadata": {},
   "outputs": [],
   "source": [
    "most_30commongenres,coverage30 = most_common_genres(preprocessed_movies, genre_counts_top_30, 30)\n",
    "most_30commongenres = most_30commongenres.dropna(subset=['Genres'])\n",
    "\n",
    "genre_binary_matrix = pd.DataFrame(mlb.fit_transform(most_30commongenres['Genres'].str.split(', ')), columns=mlb.classes_, index=most_30commongenres.index)\n",
    "genre_correlation = genre_binary_matrix.corr()\n",
    "\n",
    "print(genre_correlation.index)\n",
    "\n",
    "plt.figure(figsize=(18, 12))\n",
    "mask = np.triu(np.ones_like(genre_correlation, dtype=bool))\n",
    "sns.heatmap(genre_correlation, mask=mask, cmap='coolwarm', annot=True, fmt=\".2f\")\n",
    "plt.title('Correlation Between 30 top Movie Genres')"
   ]
  },
  {
   "cell_type": "markdown",
   "metadata": {},
   "source": [
    "Here, we observe some logical correlations between genres. For example, \"Romance Film\" has a strong correlation (0.50) with \"Romantic Drama,\" and \"Thriller\" is correlated with \"Crime Thriller\" (0.43). This reflects how closely related these genre classifications are.\n",
    "\n",
    "Ideally, a \"Crime Thriller\" would always be classified as a \"Thriller,\" so the correlation should be 1. However, since movies are sometimes labeled with just one of these terms, we see a lower correlation. This suggests potential inconsistencies in labeling, where similar genres are named differently or only partially.\n",
    "\n",
    "One solution might be to group genres with similar names. However, it’s not always straightforward. For example, if we consider \"Romantic Drama\" and \"Romantic Comedy,\" should both be grouped under \"Romance\"? Or should one go under \"Drama\" and the other under \"Comedy\"? Alternatively, should each be classified in both \"Romance\" and their respective sub-genres (\"Drama\" or \"Comedy\")? The choice of grouping depends on how we want to structure the genre hierarchy and whether we aim to capture both overarching themes and specific sub-genres."
   ]
  },
  {
   "cell_type": "markdown",
   "metadata": {},
   "source": [
    "## 4 - Bivariate Analysis"
   ]
  },
  {
   "cell_type": "markdown",
   "metadata": {},
   "source": [
    "### ➔ Movie Genres over Time"
   ]
  },
  {
   "cell_type": "markdown",
   "metadata": {},
   "source": [
    "We begin to analyze the distribution of different genres over time to look at correlations and trends between the variables Movie Release Date and Genre. \n",
    "\n",
    "For now, we focus our study on the ten most common genres."
   ]
  },
  {
   "cell_type": "code",
   "execution_count": null,
   "metadata": {},
   "outputs": [],
   "source": [
    "#top 10 genres\n",
    "selected_genres = genre_counts_top_10['Genres'].values\n",
    "genre_year_df = preprocessed_movies[['Year', 'Genres']].copy()\n",
    "\n",
    "#Explode the genres into separate rows\n",
    "genre_year_df = genre_year_df.assign(Movie_genres=genre_year_df['Genres'].str.split(', ')).explode('Genres')\n",
    "genre_year_df = genre_year_df[genre_year_df['Genres'].isin(selected_genres)]\n",
    "\n",
    "#number of movies per genre per year\n",
    "genre_year_counts = genre_year_df.groupby(['Year', 'Genres']).size().unstack(fill_value=0)"
   ]
  },
  {
   "cell_type": "code",
   "execution_count": null,
   "metadata": {},
   "outputs": [],
   "source": [
    "print(f\"Most count of number of movies per genre per year:\\n{', '.join(genre_year_counts.columns)}\")"
   ]
  },
  {
   "cell_type": "code",
   "execution_count": null,
   "metadata": {},
   "outputs": [],
   "source": [
    "#evolution over time of each genre\n",
    "plt.figure(figsize=(10, 4))\n",
    "for genre in selected_genres:\n",
    "    plt.plot(genre_year_counts.index, genre_year_counts[genre], label=genre)\n",
    "plt.xlim(1900, 2010)\n",
    "plt.xlabel('Year')\n",
    "plt.ylabel('Number of Movies')\n",
    "plt.title('Evolution of Selected Movie Genres Over Time')\n",
    "plt.legend()\n",
    "plt.show()"
   ]
  },
  {
   "cell_type": "markdown",
   "metadata": {},
   "source": [
    "The graph reveals significant variations in the popularity of movie genres over time. We will later examine whether these fluctuations correlate with historical events or crises."
   ]
  },
  {
   "cell_type": "markdown",
   "metadata": {},
   "source": [
    "### ➔ Movies per countries"
   ]
  },
  {
   "cell_type": "markdown",
   "metadata": {},
   "source": [
    "In our analysis, we aim to examine the impact of historical events on the film industry across different countries. To begin, let’s look at the number of movies produced by each country in our dataset.\n",
    "\n",
    "Since movies can be associated with more than one country, we will split the dataset so that each country listed for a movie is counted individually. This way, a movie will be included once for each country it’s attributed to."
   ]
  },
  {
   "cell_type": "code",
   "execution_count": null,
   "metadata": {},
   "outputs": [],
   "source": [
    "movies_per_country_counts = preprocessed_movies.assign(Countries=preprocessed_movies['Countries'].str.split(', ')).explode('Countries')\n",
    "movies_per_country_counts = movies_per_country_counts['Countries'].value_counts().reset_index()\n",
    "movies_per_country_counts.columns = ['Countries', 'Movie_Count']\n",
    "plot_movies_map(preprocessed_movies, movies_per_country_counts)"
   ]
  },
  {
   "cell_type": "code",
   "execution_count": null,
   "metadata": {},
   "outputs": [],
   "source": [
    "top15_contry_movie_production = movies_per_country_counts.iloc[:15]\n",
    "\n",
    "plt.figure(figsize=(9, 5))\n",
    "sns.barplot(x='Movie_Count', y='Countries', data=top15_contry_movie_production, hue='Countries', legend=False)\n",
    "plt.ylabel('Countries')\n",
    "plt.xlabel('Number of Movies')\n",
    "plt.title('Top 15 Countries producers of Movies')\n",
    "plt.show()\n",
    "\n",
    "top15_contry_movie_production.head(2)"
   ]
  },
  {
   "cell_type": "markdown",
   "metadata": {},
   "source": [
    "The United States has clearly dominated the film industry, with a total of 33,104 movies released—four times more than the United Kingdom, the second-largest film producer. Let’s explore whether this dominance has remained consistent over time or if it is a more recent trend."
   ]
  },
  {
   "cell_type": "code",
   "execution_count": null,
   "metadata": {},
   "outputs": [],
   "source": [
    "double_decades = (preprocessed_movies['Year'] // 50) * 50\n",
    "\n",
    "best_country_per_decade = preprocessed_movies.assign(Countries=preprocessed_movies['Countries'].str.split(', ')).explode('Countries')\n",
    "\n",
    "movies_per_decade_country = best_country_per_decade.groupby([double_decades, 'Countries']).size().unstack(fill_value=0)\n",
    "top_3_countries_per_decade = movies_per_decade_country.apply(lambda x: x.nlargest(3).index.tolist(), axis=1)\n",
    "\n",
    "#display the top 10 countries per decade\n",
    "top_3_countries_df = pd.DataFrame(top_3_countries_per_decade.tolist(), index=top_3_countries_per_decade.index)\n",
    "top_3_countries_df.index.name = 'Decade'\n",
    "top_3_countries_df.columns = [f'Top {i+1} country producer' for i in range(top_3_countries_df.shape[1])]\n",
    "\n",
    "display(top_3_countries_df)\n",
    "\n",
    "\n",
    "countries = ['United States of America', 'United Kingdom', 'France', 'India', 'South Korea']\n",
    "country_movies = {country: preprocessed_movies[preprocessed_movies['Countries'] == country] for country in countries}\n",
    "\n",
    "plt.figure(figsize=(8, 4))\n",
    "for country, movies in country_movies.items():\n",
    "    plt.plot(movies['Year'].value_counts().sort_index(), label=country)\n",
    "\n",
    "plt.title('Number of movies per year in the 5 top countries')\n",
    "plt.xlabel('Year')\n",
    "plt.xticks(range(int(preprocessed_movies['Year'].min()) + 2, int(preprocessed_movies['Year'].max()), 10))\n",
    "plt.grid(True, linestyle='--', alpha=0.7)\n",
    "plt.ylabel('Number of movies')\n",
    "plt.legend()\n",
    "plt.show()\n"
   ]
  },
  {
   "cell_type": "markdown",
   "metadata": {},
   "source": [
    "We can see that the United States has always had a strong historical dominance in the film industry since 1910. Hollywood has been a leading industry for many years and our data supports this. \n",
    "\n",
    "We do however see a rise in India for movie releases which could be due to growing importance of Bollywood and perhaps even suggesting a gradual exportation of indian movies abroad. This is something we can try to assess in our future analysis.  "
   ]
  },
  {
   "cell_type": "markdown",
   "metadata": {},
   "source": [
    "### ➔ Preliminary Study - War Movies"
   ]
  },
  {
   "cell_type": "markdown",
   "metadata": {},
   "source": [
    "In this section, we’ll conduct a brief analysis of movies classified as \"War Movies.\" This is a straightforward, focused genre analysis over time, where we’ll examine trends in war movie production, particularly to see if there was an increase in production around major wartime periods, such as the World Wars."
   ]
  },
  {
   "cell_type": "code",
   "execution_count": null,
   "metadata": {
    "scrolled": true
   },
   "outputs": [],
   "source": [
    "War_movies = preprocessed_movies[preprocessed_movies['Genres'].str.contains(r'war', case=False, na=False)]\n",
    "War_movies_comedy = War_movies[War_movies['Genres'].str.contains(r'comedy', case=False, na=False)]\n",
    "War_movies_drama = War_movies[War_movies['Genres'].str.contains(r'drama', case=False, na=False)]\n",
    "\n",
    "print(f\"Total number of War movies: {len(War_movies)}\")\n",
    "print(f\"Total number of War-Comedy movies: {len(War_movies_comedy)}\")\n",
    "print(f\"Total number of War-Drama movies: {len(War_movies_drama)}\")"
   ]
  },
  {
   "cell_type": "code",
   "execution_count": null,
   "metadata": {},
   "outputs": [],
   "source": [
    "plt.figure(figsize=(10,6))\n",
    "War_movies[\"Year\"].hist(bins=50, range=(preprocessed_movies[\"Year\"].min(), preprocessed_movies[\"Year\"].max()), color = 'salmon', edgecolor = 'black')\n",
    "\n",
    "plt.xlabel(\"Year\")\n",
    "plt.ylabel(\"Number of war movies\")\n",
    "plt.title(\"Number of movies per year\")\n",
    "plt.show()"
   ]
  },
  {
   "cell_type": "markdown",
   "metadata": {},
   "source": [
    "The plot shows the number of war movies produced each year. There is a significant increase in war movie production during the 1940s, which aligns with World War II, suggesting that the conflict likely influenced the film industry. Another peak appears around the early 2000s.\n",
    "\n",
    "We know that the distribution of the movies is skewed to the right, so let's focus on the proportion rather than the number of movies."
   ]
  },
  {
   "cell_type": "code",
   "execution_count": null,
   "metadata": {},
   "outputs": [],
   "source": [
    "total_movies_per_year = preprocessed_movies.groupby('Year').size()\n",
    "war_movies_per_year = War_movies.groupby('Year').size()\n",
    "\n",
    "#proportion of each category of movie per year\n",
    "war_movies_proportion = (war_movies_per_year / total_movies_per_year)*100\n",
    "\n",
    "plt.figure(figsize=(10, 6))\n",
    "plt.bar(war_movies_proportion.index, war_movies_proportion.values, label='War Movies Proportion in percent', color='red', alpha=0.6)\n",
    "plt.xlabel('Year')\n",
    "plt.ylabel('Proportion of Movies (%)')\n",
    "plt.title('Proportion of War Movies per Year')\n",
    "plt.legend(loc='upper right')\n",
    "plt.show()"
   ]
  },
  {
   "cell_type": "markdown",
   "metadata": {},
   "source": [
    "Another interesting question to explore is whether these war movies tend to lean more toward comedic or dramatic themes."
   ]
  },
  {
   "cell_type": "code",
   "execution_count": null,
   "metadata": {},
   "outputs": [],
   "source": [
    "war_comedy_movies_per_year = War_movies_comedy.groupby('Year').size()\n",
    "war_drama_movies_per_year = War_movies_drama.groupby('Year').size()\n",
    "\n",
    "#calculate the proportion of each category of movie per year\n",
    "war_comedy_movies_proportion = war_comedy_movies_per_year / total_movies_per_year\n",
    "war_drama_movies_proportion = war_drama_movies_per_year / total_movies_per_year\n",
    "\n",
    "plt.figure(figsize=(10, 5))\n",
    "plt.bar(war_comedy_movies_proportion.index, war_comedy_movies_proportion.values, label='War Comedy Movies Proportion', color='red', alpha=0.6)\n",
    "plt.bar(war_drama_movies_proportion.index, war_drama_movies_proportion.values, label='War Drama Movies Proportion', color='limegreen', alpha=0.6)\n",
    "\n",
    "plt.xlabel('Year')\n",
    "plt.ylabel('Proportion of Movies')\n",
    "plt.title('War Comedy movies, and War Drama movies over time')\n",
    "plt.legend(loc='upper right')\n",
    "plt.show()"
   ]
  },
  {
   "cell_type": "markdown",
   "metadata": {},
   "source": [
    "The graph clearly shows that the theme of war is much more frequently portrayed from a dramatic rather than a comedic perspective."
   ]
  },
  {
   "cell_type": "markdown",
   "metadata": {},
   "source": [
    "Although our data contains a substantial amount of information for analysis, to incorporate historical events as an influencing factor on the distribution of our data and better understand the trends in movie distribution, we need to import an additional dataset containing information about historical world events."
   ]
  },
  {
   "cell_type": "markdown",
   "metadata": {},
   "source": [
    "# Additional dataset : \"World Important Events - Ancient to Modern\""
   ]
  },
  {
   "cell_type": "markdown",
   "metadata": {},
   "source": [
    "We begin with the cleaning, preprocessing and investigation of this additional dataset, creating categories useful for analysis, such as \"war,\" \"economic crisis,\" and \"period of stability.\" "
   ]
  },
  {
   "cell_type": "markdown",
   "metadata": {},
   "source": [
    "## 1 - Data Collection"
   ]
  },
  {
   "cell_type": "markdown",
   "metadata": {},
   "source": [
    "We start with an overview of the historical dataset, an open-source collection titled \"World Important Events - Ancient to Modern World.\"  (Author: Saket Kumar)"
   ]
  },
  {
   "cell_type": "code",
   "execution_count": null,
   "metadata": {},
   "outputs": [],
   "source": [
    "raw_history_data= pd.read_csv(\"data/HistoricalDataset/historical.dataset.zip\")\n",
    "initial_length = len(raw_history_data)\n",
    "print(f\"The initial dataframe has {initial_length} lines.\")"
   ]
  },
  {
   "cell_type": "code",
   "execution_count": null,
   "metadata": {},
   "outputs": [],
   "source": [
    "raw_history_data.head(3)"
   ]
  },
  {
   "cell_type": "markdown",
   "metadata": {},
   "source": [
    "## 2- Preliminary Data Cleaning"
   ]
  },
  {
   "cell_type": "markdown",
   "metadata": {},
   "source": [
    "Here are the steps of our data cleaning: \n",
    "- We removed the columns \"Place Name\",\"Date\" and \"Month\" of the dataset. We don't need such precision in the historical events date because our analysis will focus on their impact on film industry, and films are usually released years after an event. The Place Name is also a precision that we won't need, as we are working at the scale of countries.\n",
    "- We saw that some of the dates are before Christ (BC). We can safely remove them, knowing that movies didn't exist at that time.\n",
    "- The historical dataset starts from very ancient times, so we only kept events happening after the first movie was released. We also don't want the historical event that happens after the last movie that we got.\n",
    "- We also note that there are no missing values.\n",
    "- Transformed the date formats for temporal analysis to match the format of our movie dataset.\n",
    "- To show on a world map the number of events happening in each country we will use a geopandas dataset. Some countries of the historical dataset have different names than geopandas, so we will need to formatted them to match.\n",
    "- Countries where no movies were made (or at least not in our dataset) can be removed from the historical dataset, because they won't be useful for our analysis."
   ]
  },
  {
   "cell_type": "code",
   "execution_count": null,
   "metadata": {},
   "outputs": [],
   "source": [
    "first_movie_year = preprocessed_movies['Year'].min()\n",
    "last_movie_year = preprocessed_movies['Year'].max()\n",
    "\n",
    "cleaned_events = preprocess_events(raw_history_data, first_movie_year, last_movie_year)"
   ]
  },
  {
   "cell_type": "code",
   "execution_count": null,
   "metadata": {},
   "outputs": [],
   "source": [
    "events_countries = cleaned_events['Country'].unique()\n",
    "movies_countries = preprocessed_movies['Countries'].str.split(', ').explode().unique()\n",
    "\n",
    "#Elements in events_countries that are not in movies_countries\n",
    "not_in_movies_dataset = [item for item in events_countries if item not in movies_countries]\n",
    "cleaned_events = cleaned_events[cleaned_events['Country'].isin(movies_countries)]"
   ]
  },
  {
   "cell_type": "code",
   "execution_count": null,
   "metadata": {},
   "outputs": [],
   "source": [
    "print(\"The dataframe following preprocessing steps has\", len(cleaned_events), \"entries.\")\n",
    "print(initial_length - len(cleaned_events), \"rows were lost following the cleaning steps.\")"
   ]
  },
  {
   "cell_type": "markdown",
   "metadata": {},
   "source": [
    "A lot of rows were lost, but that's fine because we don't need a very large dataset for the historical events. Instead we want to choose relevant ones to analyse their impact on film industry."
   ]
  },
  {
   "cell_type": "markdown",
   "metadata": {},
   "source": [
    "### Duplicates"
   ]
  },
  {
   "cell_type": "code",
   "execution_count": null,
   "metadata": {},
   "outputs": [],
   "source": [
    "#Check for completely identical rows \n",
    "exact_duplicates = cleaned_events[cleaned_events.duplicated(keep=False)]\n",
    "print(f\"\\nNumber of completely identical rows: {len(exact_duplicates)}\")\n",
    "\n",
    "#duplicates in the Movie name column\n",
    "duplicates = cleaned_events[cleaned_events.duplicated(subset=['Name of Incident'], keep=False)]\n",
    "\n",
    "#number of events that appear more than once\n",
    "num_unique_duplicates = len(duplicates['Name of Incident'].unique())\n",
    "print(f\"\\nNumber of unique events that are duplicated: {num_unique_duplicates}\")\n",
    "\n",
    "print(\"\\Duplicated events:\")\n",
    "duplicates.sort_values('Name of Incident').head(5)"
   ]
  },
  {
   "cell_type": "markdown",
   "metadata": {},
   "source": [
    "There are 20 events that appear multiple times in the dataset. This is because some events affected multiple countries or had different aspects recorded separately. For example, the August Revolution appears for both Vietnam and Burkina Faso in different years. The Battle of Stalingrad is recorded for both Russia and Germany and has different outcomes depending on the country.\n",
    "Since they represent different perspectives or aspects of the same events, we will keep these duplicates as they provide valuable context about how events impacted different countries and populations.\n"
   ]
  },
  {
   "cell_type": "markdown",
   "metadata": {},
   "source": [
    "### Save the complementary dataset"
   ]
  },
  {
   "cell_type": "code",
   "execution_count": null,
   "metadata": {},
   "outputs": [],
   "source": [
    "#save the cleaned data to a csv file\n",
    "processed_data_path = 'data/Preprocessed_data/preprocessed_history.csv'\n",
    "cleaned_events.to_csv(processed_data_path, encoding='utf-8', errors='ignore', index=False)\n",
    "preprocessed_history = cleaned_events.copy()"
   ]
  },
  {
   "cell_type": "markdown",
   "metadata": {},
   "source": [
    "## 3 - Univariate analysis"
   ]
  },
  {
   "cell_type": "markdown",
   "metadata": {},
   "source": [
    "Once more, we may assess one by one the different variables from our data independently to understand characteristics, look for outliers and trends in their distribution.\n",
    "Let's visualize the  distribution of the number of events that happened each year in the historical dataset."
   ]
  },
  {
   "cell_type": "markdown",
   "metadata": {},
   "source": [
    "### ➔ Event Year"
   ]
  },
  {
   "cell_type": "code",
   "execution_count": null,
   "metadata": {},
   "outputs": [],
   "source": [
    "plot_boxplot(preprocessed_history['Year'], 'Number of historical events', 'Year', figsize=(8, 1), color='lightblue', orient='h')"
   ]
  },
  {
   "cell_type": "code",
   "execution_count": null,
   "metadata": {},
   "outputs": [],
   "source": [
    "plt.figure(figsize=(8, 4))\n",
    "\n",
    "preprocessed_history[\"Year\"].hist(bins=30, range=(preprocessed_history[\"Year\"].min(), preprocessed_history[\"Year\"].max()), color = 'salmon', edgecolor = 'black') \n",
    "plt.xlabel(\"Year\")\n",
    "plt.ylabel(\"Number of historical events\")\n",
    "plt.title(\"Historical events  each year\")  \n",
    "plt.show()"
   ]
  },
  {
   "cell_type": "code",
   "execution_count": null,
   "metadata": {},
   "outputs": [],
   "source": [
    "top5 = preprocessed_history[\"Country\"].value_counts().iloc[:5]\n",
    "top5_countries = preprocessed_history[preprocessed_history[\"Country\"].isin(top5.index[:5])]"
   ]
  },
  {
   "cell_type": "code",
   "execution_count": null,
   "metadata": {},
   "outputs": [],
   "source": [
    "top5_countries.loc[:, 'Decade'] = (top5_countries['Year'] // 10) * 10\n",
    "decade_counts = top5_countries.groupby(['Decade', 'Country']).size().unstack(fill_value=0)\n",
    "\n",
    "decade_counts.plot(kind='bar', stacked=True, figsize=(10, 6), colormap='Pastel2')\n",
    "plt.xlabel('Decade')\n",
    "plt.ylabel('Number of Events')\n",
    "plt.title('Number of Historical Events per Decade for Top 5 Countries')\n",
    "plt.legend(title='Country')\n",
    "plt.grid(axis='y', linestyle='--', alpha=0.7)\n",
    "plt.show()"
   ]
  },
  {
   "cell_type": "markdown",
   "metadata": {},
   "source": [
    "This stacked bar chart represents the number of historical events by decade for the top five countries in the dataset. This format allows for a clearer comparison of each country's historical events over time, as well as an easy view of dominant countries in each decade. \n",
    "\n",
    "We already have a significant amount of data on events in India, which has led us to later initiate a case study to begin analyzing our research question about the country."
   ]
  },
  {
   "cell_type": "markdown",
   "metadata": {},
   "source": [
    "### ➔ Event Type"
   ]
  },
  {
   "cell_type": "code",
   "execution_count": null,
   "metadata": {},
   "outputs": [],
   "source": [
    "#Number of event types in the dataset\n",
    "t_events = preprocessed_history['Type of Event'].str.split(', ').explode().unique()\n",
    "print(f\"Total number of event types: {len(t_events)}\")\n",
    "print(f\"Some examples of event types: {', '.join(t_events[:5])}...\")"
   ]
  },
  {
   "cell_type": "markdown",
   "metadata": {},
   "source": [
    "There are 310 different event types in the historical data. Just as we did for the genres in the movies, we can attempt to select a more relevant subset of these types. For this preliminary analysis, we can select a subset of these events (Wars for example? - maybe regroup war dates, see if there is a period with many wars which correlates with movies about war?)\n",
    "\n",
    "Let's count the number of dates in each event type."
   ]
  },
  {
   "cell_type": "code",
   "execution_count": null,
   "metadata": {},
   "outputs": [],
   "source": [
    "e_types_counts = preprocessed_history['Type of Event'].str.split(', ').explode().value_counts()\n",
    "e_types_counts"
   ]
  },
  {
   "cell_type": "markdown",
   "metadata": {},
   "source": [
    "We can quickly observe that many of our event types only occur once."
   ]
  },
  {
   "cell_type": "code",
   "execution_count": null,
   "metadata": {},
   "outputs": [],
   "source": [
    "t_events = e_types_counts[e_types_counts <= 10]\n",
    "rare_t_events = len(t_events)\n",
    "\n",
    "print(f\"Number of event types assigned to 10 dates or less  : {rare_t_events}\")"
   ]
  },
  {
   "cell_type": "code",
   "execution_count": null,
   "metadata": {},
   "outputs": [],
   "source": [
    "#Event type distribution\n",
    "t_events = e_types_counts[e_types_counts > 2]\n",
    "\n",
    "#bar colors\n",
    "num_bars = len(e_types_counts)\n",
    "colors = plt.cm.rainbow(np.linspace(0, 1, num_bars))\n",
    "\n",
    "#plot with rainbow colors assigned to each bar\n",
    "plt.figure(figsize=(12, 5))\n",
    "t_events.plot(kind='barh', color=colors)\n",
    "plt.title('Distribution of the types of events')\n",
    "plt.yticks(fontsize=5) \n",
    "plt.gca().invert_yaxis() "
   ]
  },
  {
   "cell_type": "markdown",
   "metadata": {},
   "source": [
    "One way to select a subset of dates: by their number of assigned dates. This is however debatably relevant because some types of events could be rare but give a much better descriptive indication of the nature of the event. For example, the top represented types of events are \"Political\" and \"Independence\" which are guite vague in nature. Moreover, we see that \"Military\" and \"Military Conflict\" have a close number of occurences. This could mean that they have a strong association: we could therefore try to aggregate the event types that are always associated together. "
   ]
  },
  {
   "cell_type": "markdown",
   "metadata": {},
   "source": [
    "Lets analyse the correlation between types of events:"
   ]
  },
  {
   "cell_type": "code",
   "execution_count": null,
   "metadata": {},
   "outputs": [],
   "source": [
    "event_type_binary = pd.get_dummies(preprocessed_history['Type of Event'])\n",
    "df_encoded = pd.concat([preprocessed_history[['Year']], event_type_binary], axis=1)\n",
    "df_encoded\n",
    "event_counts_by_year = df_encoded.groupby('Year').sum()\n",
    "correlation_matrix = event_counts_by_year.corr()\n",
    "plt.figure(figsize=(8, 6))\n",
    "sns.heatmap(correlation_matrix, annot=False, cmap=\"coolwarm\", vmin=-1, vmax=1)\n",
    "plt.title('Correlation Matrix of Event Types by Year')\n",
    "plt.show()"
   ]
  },
  {
   "cell_type": "code",
   "execution_count": null,
   "metadata": {},
   "outputs": [],
   "source": [
    "corr_values = correlation_matrix.unstack().reset_index()\n",
    "corr_values.columns = ['Event Type 1', 'Event Type 2', 'Correlation']\n",
    "\n",
    "corr_values = corr_values[corr_values['Event Type 1'] != corr_values['Event Type 2']]\n",
    "corr_values = corr_values.reindex(corr_values['Correlation'].abs().sort_values(ascending=False).index)\n",
    "\n",
    "top_n = 20 # top N highest correlations\n",
    "top_corrs = corr_values.head(top_n)\n",
    "top_event_types = list(set(top_corrs['Event Type 1']).union(set(top_corrs['Event Type 2'])))\n",
    "subset_matrix = correlation_matrix.loc[top_event_types, top_event_types]\n",
    "\n",
    "plt.figure(figsize=(8, 6))\n",
    "sns.heatmap(subset_matrix, annot=False, cmap=\"coolwarm\", vmin=-1, vmax=1)\n",
    "plt.title('Top Correlations in Event Types')\n",
    "plt.show()"
   ]
  },
  {
   "cell_type": "code",
   "execution_count": null,
   "metadata": {},
   "outputs": [],
   "source": [
    "corr_values"
   ]
  },
  {
   "attachments": {},
   "cell_type": "markdown",
   "metadata": {},
   "source": [
    "For the time being, in order to study a manageble subset of the data, we can concentrate on an arbitrary type of event?"
   ]
  },
  {
   "cell_type": "markdown",
   "metadata": {},
   "source": [
    "### ➔ Event Country"
   ]
  },
  {
   "cell_type": "markdown",
   "metadata": {},
   "source": [
    "We look at the geographical distribution of events of the 10 first countries."
   ]
  },
  {
   "cell_type": "code",
   "execution_count": null,
   "metadata": {},
   "outputs": [],
   "source": [
    "#Country event distribution\n",
    "country_counts = preprocessed_history['Country'].value_counts().head(10)\n",
    "num_bars = len(country_counts)\n",
    "colors = plt.cm.rainbow(np.linspace(0, 1, num_bars))\n",
    "\n",
    "plt.figure(figsize=(10, 4))  \n",
    "country_counts.plot(kind='barh', color=colors, width=0.4)  \n",
    "plt.title('Countries with the most historical events', fontsize=14)\n",
    "plt.yticks(fontsize=10) \n",
    "plt.xticks(fontsize=10)\n",
    "plt.gca().invert_yaxis()\n",
    "plt.subplots_adjust(left=0.2, right=0.8, top=0.9, bottom=0.1)\n",
    "plt.show()"
   ]
  },
  {
   "cell_type": "code",
   "execution_count": null,
   "metadata": {},
   "outputs": [],
   "source": [
    "plot_events_map(preprocessed_history)"
   ]
  },
  {
   "cell_type": "markdown",
   "metadata": {},
   "source": [
    "## 4 - Bivariate Analysis"
   ]
  },
  {
   "cell_type": "markdown",
   "metadata": {},
   "source": [
    " ### Case Study: India"
   ]
  },
  {
   "cell_type": "markdown",
   "metadata": {},
   "source": [
    "Here we aim to look at correlations and influences between the variables of the data, concentrating on the events that happen in one country: India.\n",
    "This can give us an idea of trends in our variables and could be useful when combined with our movie data to begin assessing the questions posed by our analysis."
   ]
  },
  {
   "cell_type": "code",
   "execution_count": null,
   "metadata": {
    "scrolled": true
   },
   "outputs": [],
   "source": [
    "India_events = preprocessed_history[preprocessed_history['Country']=='India']\n",
    "India_movies = preprocessed_movies[preprocessed_movies['Countries']=='India']"
   ]
  },
  {
   "cell_type": "markdown",
   "metadata": {},
   "source": [
    "## Distribution of movies and historical events in india from 1900 to 2013"
   ]
  },
  {
   "cell_type": "code",
   "execution_count": null,
   "metadata": {},
   "outputs": [],
   "source": [
    "plot_boxplot(India_events['Year'], 'Distribution of Historical Events in India Over Time', 'Year', figsize=(8, 1), color='lightblue', orient='h')\n",
    "plot_boxplot(India_movies['Year'], 'Distribution of Movies in India Over Time', 'Year', figsize=(8, 1), color='lightgreen', orient='h')"
   ]
  },
  {
   "cell_type": "markdown",
   "metadata": {},
   "source": [
    "### Map of the historical event"
   ]
  },
  {
   "cell_type": "markdown",
   "metadata": {},
   "source": [
    "Here is the timeline of the events that occurs in india between 1900 and 2013. \n",
    "You can navigate through the timeline using the display bar on the right corner. \n",
    "If you scrowl on the point you can have more information on the event.\n",
    "The color of the dot indicate if the outcome was classified positive (green) or negative (red)."
   ]
  },
  {
   "cell_type": "code",
   "execution_count": null,
   "metadata": {},
   "outputs": [],
   "source": [
    "events = India_events.sort_values(by='Year').reset_index(drop=True)\n",
    "\n",
    "#y_positions = [i for i in range(len(events))]   #don't know which position is the best, better looking\n",
    "y_positions = np.random.uniform(len(events)*0.1, len(events)*0.8, len(events))\n",
    "\n",
    "color_map = {'Positive': 'green', 'Negative': 'red'}\n",
    "colors = events['Outcome'].map(color_map)\n",
    "\n",
    "fig = go.Figure()\n",
    "\n",
    "fig.add_trace(go.Scatter(\n",
    "    x=events['Year'],\n",
    "    y=y_positions,\n",
    "    mode=\"markers+text\",\n",
    "    marker=dict(size=10, color=colors),\n",
    "    text=events['Name of Incident'],\n",
    "    textposition=\"top center\",\n",
    "    showlegend=False,  \n",
    "    hovertext=events.apply(lambda row: f\"Event: {row['Name of Incident']}<br>Type of event: {row['Type of Event']}<br>Affected Population: {row['Affected Population']}\", axis=1),\n",
    "    hoverinfo=\"text\"\n",
    "))\n",
    "\n",
    "fig.update_layout(\n",
    "    title=\"Timeline of Historical Events in India since 1900\",\n",
    "    xaxis=dict(range=[1880, 2025], title=\"Year\"),  # We take range value out of the range of event for clarity of the plot\n",
    "    yaxis=dict(range=[0, len(events) ], visible=False),    #just for positionning, doesn't make sense to show it\n",
    "    width=1200,  \n",
    "    height=500\n",
    ")\n",
    "\n",
    "fig.show(config={'displayModeBar': True})"
   ]
  },
  {
   "cell_type": "markdown",
   "metadata": {},
   "source": [
    "If the project is visualized online, this Plotly plot will not appear because it is an interactive plot. Thus, here is a picture of the timeline of historical events in India since 1900."
   ]
  },
  {
   "cell_type": "code",
   "execution_count": null,
   "metadata": {},
   "outputs": [],
   "source": [
    "Image(filename='src/india_plot_1.png')"
   ]
  },
  {
   "cell_type": "markdown",
   "metadata": {},
   "source": [
    "There are many events to consider, so we'll focus on selecting the most significant ones. However, since the criteria for importance aren't defined, let's take a moment to think it through."
   ]
  },
  {
   "cell_type": "markdown",
   "metadata": {},
   "source": [
    "Considering the \"Affected Population\" as a criterion sounds reasonable. \n",
    "Let's focus on selecting events that impact the entire Indian population. \n",
    "This approach can help us narrow down the most significant events affecting the whole nation."
   ]
  },
  {
   "cell_type": "code",
   "execution_count": null,
   "metadata": {},
   "outputs": [],
   "source": [
    "list_affected = India_events[\"Affected Population\"].tolist()\n",
    "list_affected [:6]"
   ]
  },
  {
   "cell_type": "markdown",
   "metadata": {},
   "source": [
    "We have multiple labels describing the same population. For example, terms like \"Indian citizens,\" \"Indian civilians,\"People of India \" \"Indian population \", \"All citizens of India\" all refer to the same group."
   ]
  },
  {
   "cell_type": "code",
   "execution_count": null,
   "metadata": {},
   "outputs": [],
   "source": [
    "indian_commu_affected = India_events[India_events[\"Affected Population\"].str.contains(\"Indian citizens|Indian civilianPeople of India|Indian population|All citizens of Indias\", case=False, na=False)]\n",
    "\n",
    "print(len(indian_commu_affected),\"differents labels can represent the Indian Population.\")"
   ]
  },
  {
   "cell_type": "code",
   "execution_count": null,
   "metadata": {},
   "outputs": [],
   "source": [
    "events = indian_commu_affected.sort_values(by='Year').reset_index(drop=True)\n",
    "\n",
    "y_positions = [i for i in range(len(events))]   #don't know which position is the best, better looking\n",
    "#y_positions = np.random.uniform(len(events)*0.1, len(events)*0.8, len(events))\n",
    "\n",
    "color_map = {'Positive': 'green', 'Negative': 'red'}\n",
    "colors = events['Outcome'].map(color_map)\n",
    "\n",
    "fig = go.Figure()\n",
    "\n",
    "fig.add_trace(go.Scatter(\n",
    "    x=events['Year'],\n",
    "    y=y_positions,\n",
    "    mode=\"markers+text\",\n",
    "    marker=dict(size=10, color=colors),\n",
    "    text=events['Name of Incident'],\n",
    "    textposition=\"top center\",\n",
    "    showlegend=False,  \n",
    "    hovertext=events.apply(lambda row: f\"Event: {row['Name of Incident']}<br>Type of event: {row['Type of Event']}<br>Affected Population: {row['Affected Population']}\", axis=1),\n",
    "    hoverinfo=\"text\"\n",
    "))\n",
    "\n",
    "fig.update_layout(\n",
    "    title=\"Most significant events in India since 1900\",\n",
    "    xaxis=dict(range=[1880, 2025], title=\"Year\"),  # We take range value out of the range of event for clarity of the plot\n",
    "    yaxis=dict(range=[0, len(events) ], visible=False),    #just for positionning, doesn't make sense to show it\n",
    "    width=1200,  \n",
    "    height=500\n",
    ")\n",
    "fig.show(config={'displayModeBar': True})"
   ]
  },
  {
   "cell_type": "code",
   "execution_count": null,
   "metadata": {},
   "outputs": [],
   "source": [
    "Image(filename='src/india_plot_2.png')"
   ]
  },
  {
   "cell_type": "markdown",
   "metadata": {},
   "source": [
    "## 5 -  Conclusion and Future Perspectives"
   ]
  },
  {
   "cell_type": "markdown",
   "metadata": {},
   "source": [
    "To continue this project and further push our analysis, we need to find a way to group certain genres and event types together. Additionally, we will explore how to quantify the significance of each event more thoroughly to retain only the most relevant ones. This approach will simplify our analysis, allowing us to identify potential connections between genres and events. We may also investigate whether a film relates to a particular historical event by examining its plot.\n",
    "\n",
    "It could also be interesting to pose some hypotheses on the distribution of our variables and how they influence one another. For example, we could imagine that the rise in wars in a given country could lead to an increase in movie releases with war-related genres. It could therefore be interesting to assess the statistical significance of historical events as factors for trends in movie releases.\n",
    "\n",
    "One approach could be to analyze correlations between historical event frequencies (e.g., wars, economic crises) and the prevalence of certain movie genres over time. This would involve computing correlation coefficients or using regression models to quantify the strength of these relationships. For instance, we could test whether an increase in war-related events correlates with an increase in war-themed movies, controlling for other variables such as economic conditions and popular culture trends.\n",
    "\n",
    "Additionally, hypothesis testing can help verify whether observed trends are statistically significant or likely due to random variation. For example, we could set up a hypothesis test to see if the proportion of war-related movies significantly increases following war periods compared to stable periods.\n",
    "\n",
    "Finally, to enhance interpretability, clustering techniques might help categorize similar trends and patterns within the dataset, allowing us to identify genres that respond similarly to specific types of historical events. This could reveal latent relationships within our data that might be overlooked in simple pairwise analyses.\n",
    "\n",
    "These methods would give us a more robust understanding of how external events might act as drivers or influencers of movie genre trends, allowing us to make informed conclusions about the cultural impact of historical contexts on film production."
   ]
  }
 ],
 "metadata": {
  "kernelspec": {
   "display_name": "ada",
   "language": "python",
   "name": "python3"
  },
  "language_info": {
   "codemirror_mode": {
    "name": "ipython",
    "version": 3
   },
   "file_extension": ".py",
   "mimetype": "text/x-python",
   "name": "python",
   "nbconvert_exporter": "python",
   "pygments_lexer": "ipython3",
   "version": "3.11.9"
  }
 },
 "nbformat": 4,
 "nbformat_minor": 4
}
